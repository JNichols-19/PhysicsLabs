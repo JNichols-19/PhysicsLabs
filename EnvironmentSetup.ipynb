{
 "cells": [
  {
   "cell_type": "markdown",
   "metadata": {},
   "source": [
    "# Physics 201L Computing Environment Setup\n",
    "\n",
    "## GitHub Instructions\n",
    "\n",
    "### Account Setup (if you do NOT already have a GitHub account)\n",
    "\n",
    "* Go to www.github.com\n",
    "* Click on “Sign Up”\n",
    "* Choose a username (can be anything), use your CNU email address, and\n",
    "choose a password. Verify and create your account.\n",
    "* Verify your email address (the email will be sent to you by GitHub).\n",
    "* Complete the profile questions\n",
    "\n",
    "### Forking the PHYS 201L Main Code Repository\n",
    "* In the search bar at the top left of the page, type in “user:brash99”\n",
    "* Click on the brash99/PhysicsLabs link\n",
    "* Click on “Fork” in the upper right corner\n",
    "\n",
    "## Google Colaboratory:\n",
    "\n",
    "* Go to https://colab.research.google.com/notebooks/intro.ipynb\n",
    "* Sign in with your CNU account\n",
    "* Click on File -> Open notebook\n",
    "* Choose the GitHub tab in the window that comes up\n",
    "* Enter your GitHub username in the search field\n",
    "* If necessary, authorize Colaboratory to access your GitHub account\n",
    "* Choose the PhysicsLabs repository that you forked above!\n",
    "* Open the notebook that you are interested in!\n"
   ]
  },
  {
   "cell_type": "code",
   "execution_count": null,
   "metadata": {},
   "outputs": [],
   "source": []
  }
 ],
 "metadata": {
  "kernelspec": {
   "display_name": "Python 3",
   "language": "python",
   "name": "python3"
  },
  "language_info": {
   "codemirror_mode": {
    "name": "ipython",
    "version": 3
   },
   "file_extension": ".py",
   "mimetype": "text/x-python",
   "name": "python",
   "nbconvert_exporter": "python",
   "pygments_lexer": "ipython3",
   "version": "3.6.8"
  },
  "latex_envs": {
   "LaTeX_envs_menu_present": true,
   "autoclose": false,
   "autocomplete": true,
   "bibliofile": "biblio.bib",
   "cite_by": "apalike",
   "current_citInitial": 1,
   "eqLabelWithNumbers": true,
   "eqNumInitial": 1,
   "hotkeys": {
    "equation": "Ctrl-E",
    "itemize": "Ctrl-I"
   },
   "labels_anchors": false,
   "latex_user_defs": false,
   "report_style_numbering": false,
   "user_envs_cfg": false
  }
 },
 "nbformat": 4,
 "nbformat_minor": 2
}
