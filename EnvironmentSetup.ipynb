{
 "cells": [
  {
   "cell_type": "markdown",
   "metadata": {},
   "source": [
    "# Physics 201L Computing Environment Setup\n",
    "\n",
    "## GitHub Instructions\n",
    "\n",
    "### Account Setup (if you do NOT already have a GitHub account)\n",
    "\n",
    "* Go to www.github.com\n",
    "* Click on “Sign Up”\n",
    "* Choose a username (can be anything), use your CNU email address, and\n",
    "choose a password. Verify and create your account.\n",
    "* Verify your email address (the email will be sent to you by GitHub).\n",
    "* Complete the profile questions\n",
    "\n",
    "### Forking the PHYS 201L Main Code Repository\n",
    "* In the search bar at the top left of the page, type in “user:brash99”\n",
    "* Find and click on the brash99/PhysicsLabs link\n",
    "* Click on “Fork” in the upper right corner\n",
    "\n",
    "## PCSE Jupyter Notebook Server\n",
    "\n",
    "* Got to http://jlabdaq.pcs.cnu.edu:8000\n",
    "* Log in using the account information provided by your instructor\n",
    "\n",
    "At this point, you should be within the JupyterLab application!\n",
    "\n",
    "## Clone the forked repository from above\n",
    "\n",
    "* Click on the GitHub icon on the left side of the page - it looks like a diamond some white diagonal and vertical lines within it\n",
    "* Click on 'Clone a Repository', and then choose your forked repository from above - it should be https://github.com/Github_User_Name/PhysicsLabs.git where you would replace Github_User_Name with your actual GitHub username.  You should now see your forked repository in the Files menu, which is an icon that looks like a file folder at the top of the left side of the page.  You can navigate into the PhysicsLabs/PHYS201 folder, and then open and edit files!\n",
    "\n",
    "## Saving changes/edits/additions to your GitHub repository\n",
    "\n",
    "As you edit and change the provided Jupyter Notebook files, and as you add raw data files, you will want to save these to your GitHub repository at GitHub.com\n",
    "\n",
    "* Click on the GitHub icon on the left side of the page\n",
    "* You should now see a list of files that have been 'Changed'.  You may also see files that are listed as 'Untracked' that you want to add to your repository.  Hover over each file in the 'Changed' list and/or files in the 'Untracked' list that you wish to commit to your repository, and then click on the '+' icon.  These files will now move to the list of 'Staged' file.\n",
    "* Add a title for the commit in the 'Summary' box (required), and if you wish, give a description of the changes (optional).\n",
    "* Click on the Commit button.  You will now see that there should be a yellow dot in the 'Cloud + Up Arrow' icon at the top of this window.  This means \n",
    "\n",
    "\n",
    "\n"
   ]
  },
  {
   "cell_type": "code",
   "execution_count": null,
   "metadata": {},
   "outputs": [],
   "source": []
  }
 ],
 "metadata": {
  "kernelspec": {
   "display_name": "Python 3",
   "language": "python",
   "name": "python3"
  },
  "language_info": {
   "codemirror_mode": {
    "name": "ipython",
    "version": 3
   },
   "file_extension": ".py",
   "mimetype": "text/x-python",
   "name": "python",
   "nbconvert_exporter": "python",
   "pygments_lexer": "ipython3",
   "version": "3.6.8"
  },
  "latex_envs": {
   "LaTeX_envs_menu_present": true,
   "autoclose": false,
   "autocomplete": true,
   "bibliofile": "biblio.bib",
   "cite_by": "apalike",
   "current_citInitial": 1,
   "eqLabelWithNumbers": true,
   "eqNumInitial": 1,
   "hotkeys": {
    "equation": "Ctrl-E",
    "itemize": "Ctrl-I"
   },
   "labels_anchors": false,
   "latex_user_defs": false,
   "report_style_numbering": false,
   "user_envs_cfg": false
  }
 },
 "nbformat": 4,
 "nbformat_minor": 4
}
