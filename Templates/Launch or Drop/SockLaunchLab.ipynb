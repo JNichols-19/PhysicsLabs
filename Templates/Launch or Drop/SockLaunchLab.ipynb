{
 "cells": [
  {
   "cell_type": "markdown",
   "metadata": {},
   "source": [
    "# Sock Launch Lab\n",
    "## PH 211 COCC\n",
    "### Bruce Emerson 2/15/2021\n",
    "\n",
    "This notebook is meant to provide tools and discussion to support data analysis and presentation as you generate your lab reports. \n",
    "\n",
    "[Sock Launch Lab](http://coccweb.cocc.edu/bemerson/PhysicsGlobal/Courses/PH211/PH211Materials/PH211Labs/PH211LabSockLaunch.html)\n",
    "\n",
    "In this lab we are using kinematics and plots to predict the two dimensional motion of an object flying through the air here on earth. The object will be going slow enough that we expect that airdrag is minimal but our data may suggest otherwise.\n",
    "\n",
    "After we determine the velocity of the projectile we will determine the coefficient of friction between that object and a countertop."
   ]
  },
  {
   "cell_type": "markdown",
   "metadata": {},
   "source": [
    "## Dependencies\n",
    "\n",
    "This is where we load in the various libraries of python tools that are needed for the particular work we are undertaking.  \n",
    "\n",
    "The following code cell will need to be run first before any other code cells."
   ]
  },
  {
   "cell_type": "code",
   "execution_count": 1,
   "metadata": {},
   "outputs": [],
   "source": [
    "import numpy as np\n",
    "import matplotlib.pyplot as plt\n",
    "from numpy.polynomial import polynomial as ply\n",
    "from scipy.optimize import fsolve"
   ]
  },
  {
   "cell_type": "markdown",
   "metadata": {},
   "source": [
    "### The simple physics model...sort of...\n",
    "\n",
    "Because a freebody diagram for a projectile, after it is launched, has just one force (assuming no air drag), Newton's 2nd Law affirms that the acceleration must also be constant. When the acceleration is constant we have a particular set of results from integrating the acceleration to get velocity and position described by the following equations:\n",
    "\n",
    "For the horizontal direction where there are no forces which $\\implies \\bar{a}_x = 0$:  \n",
    "\n",
    "$$ x_f = x_0 + v_{0_x} \\cdot \\Delta t$$\n",
    "\n",
    "For the vertical direction where $\\bar{F}_{net} = \\bar{F}_g = \\bar{mg} = m\\bar{a}_y \\implies g = |\\bar{a}_y| = constant$:  \n",
    "\n",
    "$$ v_f = v_0 + a_y \\cdot \\Delta t$$\n",
    "\n",
    "$$ y_f = y_0 + v_{0_y} \\cdot \\Delta t + \\frac{1}{2} a_y \\cdot \\Delta t^2 $$\n",
    "\n",
    "We need to know the intial position of the projectile as well as the magnitude and direction of it's initial velocity to calculate it's path. Alternatively we can know something about where it lands and figure out how fast it was going.\n"
   ]
  },
  {
   "cell_type": "markdown",
   "metadata": {},
   "source": [
    "### Your Data: Projectile\n",
    "\n",
    "Your data will be the distance that your projectile lands from the edge of the counter and the height of the counter. However you choose to measure these they need to be reported here in SI units (meters). What we are doing here is typical in technical papers where we report the underlying data and expectations before we move forward with computations and modeling. It is also standard to report your data in the text of the report.\n",
    "\n",
    "- counter height: 1.0 m\n",
    "- range (min/max/average): 1.1 m, 1.25 m, 1.2 m\n",
    "- gravity: $9.81\\: m/s^2$\n",
    "\n",
    "Range is defined to be the distance on the floor from a point just under where the projectile left the counter to the point it landed on the floor."
   ]
  },
  {
   "cell_type": "code",
   "execution_count": 2,
   "metadata": {},
   "outputs": [],
   "source": [
    "# counter height\n",
    "initialy = 1.01 # initial height in m\n",
    "initialx = 0. # initial horizontal location\n",
    "\n",
    "# data - measured range min/max/average\n",
    "rangeMin = 1.1\n",
    "rangeMax = 1.25\n",
    "rangeMean = 1.2\n",
    "\n",
    "# useful constants\n",
    "gravity_moon = 1.62\n",
    "gravity_earth = 9.81\n",
    "accely = - gravity_earth"
   ]
  },
  {
   "cell_type": "markdown",
   "metadata": {},
   "source": [
    "***\n",
    "## Lab Deliverable:\n",
    "\n",
    "Describe the method you used to develop your projectile launching skill as well as a list of the data you gathered for the range of the projectile, min and max values, and the height of the counter from which the projectile was launched.\n",
    "\n",
    "***"
   ]
  },
  {
   "cell_type": "markdown",
   "metadata": {},
   "source": [
    "### Model Parameters\n",
    "\n",
    "We have been using models as scientists and engineers do which is to say we compute what our model says the object will do and then compare it to what we observe. To implement the model described previously we need to specify a number of model parameters. The most important of these are the initial velocity of the projectile and the angle at which it is launched. \n",
    "\n",
    "- initial velocity: (adjusted to get model to match data)\n",
    "- launch angle: $0^{\\circ}$\n",
    "\n",
    "For the Sock Launch lab we will be considering a launch angle of $0^{\\circ}$ (horizontal) but this notebook allows for the possibility of angled launches."
   ]
  },
  {
   "cell_type": "code",
   "execution_count": 17,
   "metadata": {},
   "outputs": [],
   "source": [
    "# option to change launch angle\n",
    "launch_angle_deg = 0.\n",
    "anglerad = launch_angle_deg*np.pi/180. # convert to radians to keep numpy happy\n",
    "\n",
    "# initial conditions\n",
    "initialvelocity = 2.4 # in m/s\n",
    "\n",
    "# x and y components of the initial velocity\n",
    "velinitialy = initialvelocity*np.sin(anglerad)\n",
    "velinitialx = initialvelocity*np.cos(anglerad)"
   ]
  },
  {
   "cell_type": "markdown",
   "metadata": {},
   "source": [
    "### Model Implementation\n",
    "\n",
    "As we have done before we start by generating a range of points in time that we will use to determine the x and y location of the object. This is very much like our Rock Drop lab."
   ]
  },
  {
   "cell_type": "code",
   "execution_count": 24,
   "metadata": {},
   "outputs": [],
   "source": [
    "# generate x values for model of data\n",
    "maxtime = .5\n",
    "numpoints = 1000\n",
    "modeltime = np.linspace(0.,maxtime,numpoints)\n",
    "\n",
    "# generate x and y values for each time\n",
    "modely = initialy**1.1 + velinitialy*modeltime + 0.5*accely*modeltime**2\n",
    "modelx = initialx + velinitialx*modeltime\n"
   ]
  },
  {
   "cell_type": "markdown",
   "metadata": {},
   "source": [
    "### Plot Model \n",
    "\n",
    "Just like we've done previously with different labels etc etc"
   ]
  },
  {
   "cell_type": "code",
   "execution_count": 25,
   "metadata": {},
   "outputs": [
    {
     "data": {
      "image/png": "[encoded data removed]",
      "text/plain": [
       "<Figure size 720x648 with 1 Axes>"
      ]
     },
     "metadata": {
      "needs_background": "light"
     },
     "output_type": "display_data"
    }
   ],
   "source": [
    "fig2, ax2 = plt.subplots()\n",
    "\n",
    "# plot the basic projectile model\n",
    "ax2.scatter(modelx, modely,\n",
    "            marker = '.', color = 'green',\n",
    "            label = \"model\")\n",
    "\n",
    "# plot the model for my possible higher speed and angle\n",
    "#ax2.scatter(highx, highy,\n",
    "#            marker = '.', color = 'red',\n",
    "#            label = \"data\")\n",
    "\n",
    "# draw a horizontal line across the plot to show the ground\n",
    "ax2.hlines(0, 0, 2,\n",
    "         color = 'magenta', linestyle = '-',\n",
    "         linewidth = 2., label = \"ground level\")\n",
    "\n",
    "# vertical line to show average range\n",
    "ax2.vlines(rangeMean, 0.05*initialy ,-0.1*initialy,\n",
    "         color = 'blue', linestyle = '-',\n",
    "         linewidth = 2., label = \"range average\")\n",
    "\n",
    "# minimum and max range observed\n",
    "ax2.vlines(rangeMin, 0.02*initialy ,-0.1*initialy,\n",
    "         color = 'red', linestyle = '-',\n",
    "         linewidth = 2., label = \"range min\")\n",
    "\n",
    "ax2.vlines(rangeMax, 0.02*initialy, -0.1*initialy,\n",
    "         color = 'red', linestyle = '-',\n",
    "         linewidth = 2., label = \"range max\")\n",
    "\n",
    "# a more explicit way to set labels\n",
    "plt.xlabel('horizontal (m)', fontsize = 10)\n",
    "plt.ylabel('vertical (m)', fontsize = 10)\n",
    "plt.title('Calibration Data for Sock', fontsize = 20)\n",
    "\n",
    "fig2.set_size_inches(10, 9)\n",
    "ax2.grid()\n",
    "\n",
    "plt.legend(loc= 3)\n",
    "plt.show()"
   ]
  },
  {
   "cell_type": "markdown",
   "metadata": {},
   "source": [
    "***\n",
    "## Lab Deliverable:\n",
    "\n",
    "Using the model plot above adjust the initial velocity of the model until the projectile lands at the average range. Report this initial value of the velocity. Then determine the initial velocity that gives the minimum and maximum ranges from your data. All this could be done algebraically but it also works smoothly just adjusting the model. \n",
    "\n",
    "***"
   ]
  },
  {
   "cell_type": "markdown",
   "metadata": {},
   "source": [
    "### Finding zeros\n",
    "\n",
    "I have some thinking to do about how and why my physics brain wants to create these plots this way. In the meantime the question remains \"How to ask python where the projectile hits the ground?\". If we think about how we do it looking at the graph we look at the y values until they get to zero and then try to work out what the time would be (since the plot doesn't show time). What I have is a list of y values and I can use the ```np.where``` function to determine which elements in the list are less than 0. \n",
    "\n",
    "[np.where](https://numpy.org/doc/1.18/reference/generated/numpy.where.html)\n",
    "\n",
    "np.where returns the element number (which element in the list between 0 and maximum). I can then associate that with the list of model times. **IF** y is less than zero it must be just about to hit one unit of time before that. "
   ]
  },
  {
   "cell_type": "code",
   "execution_count": 33,
   "metadata": {},
   "outputs": [
    {
     "name": "stdout",
     "output_type": "stream",
     "text": [
      "The projectile lands between 0.4523 and 0.4548 (s)\n",
      "It's range is 1.4020 and 1.4098 (m) at those times\n",
      "It's height is 0.0077 and -0.0034 (m) at those times\n"
     ]
    }
   ],
   "source": [
    "# extract the elements of the model that are 'below' the ground\n",
    "below_ground_elements = np.where(modely < 0.)\n",
    "just_after_contact = np.min(below_ground_elements)\n",
    "\n",
    "print(\"The projectile lands between %.4f and %.4f (s)\" % \n",
    "      (modeltime[just_after_contact-1],\n",
    "       modeltime[just_after_contact]))\n",
    "\n",
    "print(\"It's range is %.4f and %.4f (m) at those times\" % \n",
    "      (modelx[just_after_contact-1],\n",
    "       modelx[just_after_contact]))\n",
    "\n",
    "print(\"It's height is %.4f and %.4f (m) at those times\" % \n",
    "      (modely[just_after_contact-1],\n",
    "       modely[just_after_contact]))\n"
   ]
  },
  {
   "cell_type": "markdown",
   "metadata": {},
   "source": [
    "### Your Data: Friction\n",
    "\n",
    "Assuming that you can generate a known initial velocity for your 'projectile' we can use kinematics to determine the acceleration due to the frictional force. When you slide (careful that the projectile doesn't roll) the projectile across the counter it will come a rest in some distance. If the frictional force is constant than it will produce a constant acceleration. The following kinematic equations will apply.\n",
    "\n",
    ".$$ v_f = v_0 + a \\cdot \\Delta t$$\n",
    "\n",
    ".$$ x_f = x_0 + v_{0} \\cdot \\Delta t + \\frac{1}{2} a \\cdot \\Delta t^2 $$\n",
    "\n",
    ".$$ v_f^2 = v_0^2 + 2 \\: a \\: (x_f - x_0) $$\n"
   ]
  },
  {
   "cell_type": "markdown",
   "metadata": {},
   "source": [
    "***\n",
    "## Lab Deliverable:\n",
    "\n",
    "Present your data for the stopping distance of your projectile along the countertop. Then choose which of the previous equations you will use to determine the acceleration of the projectile. Present each of the algebraic steps for determining that acceleration in a markdown cell. I am looking for you to present the algebra you would usually show me in a homework problem using markdown tools. Be sure you start with the equation as given and show at least two algebraic steps as well as a separate line for embedding the values WITH units. Lots to practice here.\n",
    "\n",
    "Once you have determined the acceleration can you determine the coefficient of friction $\\mu_k$ from your Newtonian analysis? You will need to know the mass of your projectile. Determining the mass of your projectile is not a trivial matter without a scale. You may assume that the mass of your projectile is between 60 g (1 pair calf height athletic) and 100 g (knee high or heavier). Show your calculation and results. \n",
    "\n",
    "***"
   ]
  },
  {
   "cell_type": "markdown",
   "metadata": {},
   "source": [
    "***\n",
    "## Lab Deliverable: Reflection\n",
    "\n",
    "Having determined the purported coefficient of friction between the material of your projectile and the countertop is there a way to check that you have a reasonable result? Given that coefficients of friction are typically between 0.05 and 1 does your value fall in that range? Does your value for the initial velocity of the projectile seem reasonable given that the flight time for something sliding off the counter is consistent at 0.45 s?\n",
    "\n",
    "***"
   ]
  },
  {
   "cell_type": "markdown",
   "metadata": {},
   "source": [
    "## My Reflection\n",
    "\n",
    "As usual I learned a bunch of new stuff in the process of developing this notebook as a framework for your lab report. Thanks."
   ]
  },
  {
   "cell_type": "markdown",
   "metadata": {},
   "source": [
    "### Extensions\n",
    "\n",
    "Because my experience leads me to build physics models as lists as opposed to continuous functions the issue of finding the intersection with the ground is a little clunky. It is a future plan to figure out how to create a continuous function (if that is possible) that will have a definite zero. How would I do that?  As I dig around I keep coming back to the sense that python is always actually plotting discrete lists of numbers and not true continuous functions. "
   ]
  }
 ],
 "metadata": {
  "kernelspec": {
   "display_name": "Python 3",
   "language": "python",
   "name": "python3"
  },
  "language_info": {
   "codemirror_mode": {
    "name": "ipython",
    "version": 3
   },
   "file_extension": ".py",
   "mimetype": "text/x-python",
   "name": "python",
   "nbconvert_exporter": "python",
   "pygments_lexer": "ipython3",
   "version": "3.8.5"
  }
 },
 "nbformat": 4,
 "nbformat_minor": 4
}
