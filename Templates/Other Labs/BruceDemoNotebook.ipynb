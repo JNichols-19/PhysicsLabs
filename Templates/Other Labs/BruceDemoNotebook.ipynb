{
 "cells": [
  {
   "cell_type": "markdown",
   "metadata": {},
   "source": [
    "## JupyterLab Intro\n",
    "## PH 211 Lab\n",
    "### January 10, 2020\n",
    "\n",
    "#### First Steps:\n",
    "\n",
    "When you start a notebook the markdown cells are usually 'rendered' meaning they have been processed to yield the intended output. Very much like the html 'code' that is behind a webpage. Your task in this lab is to follow along with this guide and try out a variety of the basic tools that you will use every time you write your lab report.\n",
    "\n",
    "1: To access the markdown syntax that produces the desired output you can 'double click' on this cell. When you do so you should see things change inside this particular unit of the notebook. This unit is called a cell. \n",
    "\n",
    "2: When you want to see the rendered version of the cell 'shift-return' will render the active cell (the one with the blue bar next to it on the left). Try these two steps."
   ]
  },
  {
   "cell_type": "code",
   "execution_count": null,
   "metadata": {},
   "outputs": [],
   "source": []
  }
 ],
 "metadata": {
  "kernelspec": {
   "display_name": "Python 3",
   "language": "python",
   "name": "python3"
  },
  "language_info": {
   "codemirror_mode": {
    "name": "ipython",
    "version": 3
   },
   "file_extension": ".py",
   "mimetype": "text/x-python",
   "name": "python",
   "nbconvert_exporter": "python",
   "pygments_lexer": "ipython3",
   "version": "3.8.5"
  }
 },
 "nbformat": 4,
 "nbformat_minor": 4
}
