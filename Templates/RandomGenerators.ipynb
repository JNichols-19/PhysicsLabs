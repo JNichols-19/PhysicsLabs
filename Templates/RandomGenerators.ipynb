{
 "cells": [
  {
   "cell_type": "markdown",
   "metadata": {},
   "source": [
    "## Random Data Generator:\n",
    "\n",
    "During COVID there are times when I want to generate 'artificial' data for labs where getting students together to do so would be unwise. When they can generate data individually that is, of course, ideal but I'm finding that sometimes the lab just needs some 'fake' data. "
   ]
  },
  {
   "cell_type": "markdown",
   "metadata": {},
   "source": [
    "### Setting up numpy.random\n",
    "\n",
    "The random number generator in numpy has evolved 'recently'. Note that some students find that the current implementation does not work on their Jupyterlab installation. Not sure if it's a numpy version or a Jupyterlab version that is at the root of the problem. If you are remixing this notebook be aware that there may be issues. \n",
    "\n",
    "[numpy.random documentation](https://numpy.org/doc/stable/reference/random/index.html?highlight=random#module-numpy.random)\n",
    "\n",
    "Based on the documentation linked above here is how it starts...."
   ]
  },
  {
   "cell_type": "code",
   "execution_count": 1,
   "metadata": {},
   "outputs": [],
   "source": [
    "import numpy as np\n",
    "import matplotlib as mplot\n",
    "import matplotlib.pyplot as plt\n",
    "\n",
    "from numpy.random import default_rng\n",
    "rng = default_rng()"
   ]
  },
  {
   "cell_type": "markdown",
   "metadata": {},
   "source": [
    "### rng.normal vs rng.standard_normal\n",
    "\n",
    "The core difference for me is that ```rng.standard_normal``` generates random numbers from a normal distribution with mean 0 and standard deviation 1.0.  Since I would usually like to generate my 'fake' data with different means and different standard deviations I need to use ``` rng.normal``` which allows me to control both the mean and the standard deviation.\n",
    "\n",
    "[rng.normal docs](https://numpy.org/doc/stable/reference/random/generated/numpy.random.normal.html?highlight=random%20normal)\n",
    "\n",
    "[ring.standard_normal](https://numpy.org/doc/stable/reference/random/generated/numpy.random.standard_normal.html?highlight=random%20normal#numpy.random.standard_normal)"
   ]
  },
  {
   "cell_type": "code",
   "execution_count": 2,
   "metadata": {},
   "outputs": [],
   "source": [
    "vals = rng.normal(0, 1.1,1000)\n",
    "\n",
    "#print(vals)"
   ]
  },
  {
   "cell_type": "markdown",
   "metadata": {},
   "source": [
    "### Plot to visualize\n",
    "\n",
    "Histogram using tools from DataMeaning21 lab...."
   ]
  },
  {
   "cell_type": "code",
   "execution_count": 3,
   "metadata": {},
   "outputs": [
    {
     "data": {
      "image/png": "[encoded data removed]",
      "text/plain": [
       "<Figure size 720x648 with 1 Axes>"
      ]
     },
     "metadata": {
      "needs_background": "light"
     },
     "output_type": "display_data"
    }
   ],
   "source": [
    "# Choose my number of bins and the range of the histogram again.\n",
    "num_bins = 30\n",
    "fullrange = [-3,3]\n",
    "\n",
    "# Assign particular colors to each data set\n",
    "data1Color = \"tab:blue\"\n",
    "data2Color = \"tab:red\"\n",
    "\n",
    "# Explicitly create a figure with a particular plot 'axHist' contained within the figure\n",
    "figHist, axHist = plt.subplots()\n",
    "height, bins, patches = axHist.hist(vals,\n",
    "                                 num_bins,\n",
    "                                 fullrange,\n",
    "                                 histtype = \"bar\",\n",
    "                                 color=data1Color,\n",
    "                                 alpha= .5,\n",
    "                                 label='normal data')\n",
    "\n",
    "# Set the size of my plot for better visibility\n",
    "figHist.set_size_inches(10, 9)\n",
    "\n",
    "# turn on grid lines to help interpretation\n",
    "axHist.grid()\n",
    "\n",
    "# Label the figure\n",
    "plt.xlabel('random generator')\n",
    "plt.ylabel('frequency')\n",
    "plt.title('Histogram of Random Data')\n",
    "\n",
    "# show a legend for what the different parts of the plot mean. The legend grabs the 'lable'\n",
    "# from each plot command to create this\n",
    "plt.legend(loc=1)\n",
    "plt.show()"
   ]
  },
  {
   "cell_type": "code",
   "execution_count": 4,
   "metadata": {},
   "outputs": [],
   "source": [
    "poissonVals = rng.poisson(3,1000)\n",
    "\n",
    "#print(poissonVals)\n"
   ]
  },
  {
   "cell_type": "code",
   "execution_count": 5,
   "metadata": {},
   "outputs": [
    {
     "data": {
      "image/png": "[encoded data removed]",
      "text/plain": [
       "<Figure size 720x648 with 1 Axes>"
      ]
     },
     "metadata": {
      "needs_background": "light"
     },
     "output_type": "display_data"
    }
   ],
   "source": [
    "# Choose my number of bins and the range of the histogram again.\n",
    "num_bins = 30\n",
    "fullrange = [0,10]\n",
    "\n",
    "# Assign particular colors to each data set\n",
    "data1Color = \"tab:blue\"\n",
    "data2Color = \"tab:red\"\n",
    "\n",
    "# Explicitly create a figure with a particular plot 'axHist' contained within the figure\n",
    "figHist2, axHist2 = plt.subplots()\n",
    "height, bins, patches = axHist2.hist(poissonVals,\n",
    "                                 num_bins,\n",
    "                                 fullrange,\n",
    "                                 histtype = \"bar\",\n",
    "                                 color=data2Color,\n",
    "                                 alpha= .5,\n",
    "                                 label='poisson data')\n",
    "\n",
    "# Set the size of my plot for better visibility\n",
    "figHist2.set_size_inches(10, 9)\n",
    "\n",
    "# turn on grid lines to help interpretation\n",
    "axHist2.grid()\n",
    "\n",
    "# Label the figure\n",
    "plt.xlabel('random generator')\n",
    "plt.ylabel('frequency')\n",
    "plt.title('Histogram of Random Data')\n",
    "\n",
    "# show a legend for what the different parts of the plot mean. The legend grabs the 'lable'\n",
    "# from each plot command to create this\n",
    "plt.legend(loc=1)\n",
    "plt.show()"
   ]
  },
  {
   "cell_type": "code",
   "execution_count": null,
   "metadata": {},
   "outputs": [],
   "source": []
  },
  {
   "cell_type": "code",
   "execution_count": null,
   "metadata": {},
   "outputs": [],
   "source": []
  }
 ],
 "metadata": {
  "kernelspec": {
   "display_name": "Python 3",
   "language": "python",
   "name": "python3"
  },
  "language_info": {
   "codemirror_mode": {
    "name": "ipython",
    "version": 3
   },
   "file_extension": ".py",
   "mimetype": "text/x-python",
   "name": "python",
   "nbconvert_exporter": "python",
   "pygments_lexer": "ipython3",
   "version": "3.6.8"
  }
 },
 "nbformat": 4,
 "nbformat_minor": 4
}
