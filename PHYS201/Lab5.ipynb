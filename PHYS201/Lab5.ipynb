{
 "cells": [
  {
   "cell_type": "markdown",
   "id": "8943a6fb",
   "metadata": {},
   "source": [
    "# Experiment 5: Air Track III---Conservation of Energy\n",
    "### Objectives\n",
    "- To learn to take good measurements\n",
    "- To learn how to estimate and propagate errors\n",
    "- To learn how to take measurements to verify a theory\n",
    "- To learn how to measure potential and kinetic energies\n",
    "\n",
    "### Equipment\n",
    "- One Airtrack, Blower, and Cart\n",
    "- One accessory kit containing: one pulley, one mass hanger, and masses for cart and hanger.\n",
    "- One string (150 cm long)\n",
    "- One photogate\n",
    "- One 30 cm ruler\n",
    "- One scale\n",
    "- One vernier caliper\n",
    "- One two-meter stick\n",
    "- One two-meter stick\n",
    "- One 3” x 5/32” rod\n",
    "- One 6” x 5/32” rod\n",
    "- One 6 mm x 44 mm spring\n",
    "- One flat washer\n",
    "- One 2x4\n",
    "- One 1x4\n",
    "- One set of slotted weights: (Eight 100g and four 50g)\n",
    "\n",
    "### Safety\n",
    "- **Be careful placing the carts on the track. Do not damage the track.**\n",
    "- Please place paper underneath the carts when they are resting on the track without the air turned on. **Do not slide the carts on the track without the air turned on.**\n",
    "- **Do not launch the cart unless a rubber-band bumper is secured to the opposite end of the track.**"
   ]
  },
  {
   "cell_type": "markdown",
   "id": "60f16278",
   "metadata": {},
   "source": [
    "# Introduction\n",
    "There are two kinds of energy in mechanical systems: Potential energy and Kinetic energy. Potential energy is stored energy. When this energy is released, it can be converted into kinetic energy---energy of motion. In this lab you will conduct two experiments to determine if all of the potential energy stored in a system can be converted into kinetic energy.\n",
    "\n",
    "In the first experiment, you will convert gravitational potential energy to kinetic energy (using the hanging mass and pulley). In the second, you will convert spring potential energy to kinetic energy."
   ]
  },
  {
   "cell_type": "markdown",
   "id": "dbe84e79",
   "metadata": {},
   "source": [
    "# Theory\n",
    "### Kinematics\n",
    "First and foremost, you will need to compute the velocity of the aitrack glider. The information you will have, however, is velocity computed by a photogate. The photogate measures the\n",
    "velocity of the glider as it passes through by timing how long the infrared LED is blocked by the object (sometimes called a “flag”) passing through and uses the definition of velocity:  \n",
    "\\begin{equation}\n",
    "v \\equiv \\frac{\\Delta x}{\\Delta t}\n",
    "\\label{eq:velocity}\n",
    "\\end{equation}\n",
    "\n",
    "where $\\Delta x$ is the length of the flag and $\\Delta t$ is the time the LED was blocked."
   ]
  },
  {
   "cell_type": "markdown",
   "id": "81449d35",
   "metadata": {},
   "source": [
    "### Gravitational Potential Energy\n",
    "Recall that the amount of energy stored in an object in a gravitational field is  \n",
    "\n",
    "\\begin{equation}\n",
    "U_{g} = m g \\Delta y\n",
    "\\label{eq:energy_grav}\n",
    "\\end{equation}  \n",
    "\n",
    "where *m* is the mass of the object, *g* is the gravitational constant, and $ \\Delta y$ is the change in height of that object."
   ]
  },
  {
   "cell_type": "markdown",
   "id": "55033ecc",
   "metadata": {},
   "source": [
    "### Spring Potential Energy\n",
    "The amount of energy stored in a compressed spring is  \n",
    "\n",
    "\\begin{equation}\n",
    "U_{s} = \\frac{1}{2} k (\\Delta x)^2\n",
    "\\label{eq:spring}\n",
    "\\end{equation}  \n",
    "\n",
    "where *k* is the spring constant. You will need to measure this spring constant for your spring. You can find this constant by recalling Hooke’s Law:  \n",
    "\n",
    "\\begin{equation}\n",
    "F = -k \\Delta x\n",
    "\\label{eq:Hooke}\n",
    "\\end{equation}  \n",
    "\n",
    "The force you apply to the spring is directly related to the compression, $ \\Delta x$, of that spring (the negative sign is a reminder that the force is opposes the spring compression). By plotting the force vs. compression for different weights, you can plot a straight line. The slope of that straight line will be the spring constant (if you have plotted the correct variable on the correct axis---recall the definition of the slope of a straight line and you’ll figure it out)."
   ]
  },
  {
   "cell_type": "markdown",
   "id": "85883a10",
   "metadata": {},
   "source": [
    "### Kinetic Energy\n",
    "Kinetic energy is the energy of motion. For objects moving much slower than the speed of light, we can use the formula:  \n",
    "\n",
    "\\begin{equation}\n",
    "K = \\frac{1}{2} m v^2\n",
    "\\label{eq:kin_energy}\n",
    "\\end{equation}  \n",
    "\n",
    "where *m* is the mass of all the objects moving at speed v."
   ]
  },
  {
   "cell_type": "markdown",
   "id": "3869c0a2",
   "metadata": {},
   "source": [
    "### Uncertainty Analysis\n",
    "Your Lab Manual and the previous labs can guide you in estimating the uncertainties in your measurements and propagating those uncertainties into your computed energies. The uncertainty in the masses of the glider and hanging mass will be determined by the accuracy of the scale. In some cases, it might be easier to use the standard deviation of a large number of measurements as your velocity measurement uncertainty. The uncertainty in your spring constant and kinetic and potential energies, however, will have to be computed using the three equations in your Lab Manual.\n",
    "\n",
    "In order to minimize random errors, it is extremely important that each of your measurements be performed several times."
   ]
  },
  {
   "cell_type": "markdown",
   "id": "513e15f1",
   "metadata": {},
   "source": [
    "# Experimental Procedure\n",
    "\n",
    "### Setting up the Air Track\n",
    "Ensure that the pulley is securely inserted into the top hole in the bracket at the far end of the track, that it spins freely, and that the hanging mass does not strike the table as it falls. You will need to level the airtrack for two of the experiments. Look back to the second lab for instructions if you’ve forgotten how to do this."
   ]
  },
  {
   "cell_type": "markdown",
   "id": "bfd68834",
   "metadata": {},
   "source": [
    "### Setting up a Photogate\n",
    "1. Turn on the PASCO 850 Interface and start the PASCO Capstone software.\n",
    "2. Plug a photogate into a Digital input.\n",
    "3. Click the “Hardware Setup” tab in the left “Tools” palette, left-click the jack on the diagram where you inserted the plug, and select “Photogate” from the drop-down menu.\n",
    "4. You should see a tab labeled “Timer Setup.” Open that tab and set up a pre-configured timer:\n",
    "    1. Select the photogate you just installed.\n",
    "    2. You will be using this photogate with a single flag.\n",
    "    3. The computer need only keep track of the speed through the gate.\n",
    "    4. A text box requesting the length of the flag in meters will appear. Measure the flag as best you can and enter that information in the box.\n",
    "    5. Give this sensor a name such as “Photogate 1” or similar."
   ]
  },
  {
   "cell_type": "code",
   "execution_count": 1,
   "id": "8e758664",
   "metadata": {},
   "outputs": [],
   "source": [
    "# Flag length measurement (m)\n",
    "flag_len = 0.1\n",
    "\n",
    "# Flag Length Uncertainty\n",
    "delta_x = 0.005"
   ]
  },
  {
   "cell_type": "markdown",
   "id": "ffc4534c",
   "metadata": {},
   "source": [
    "When you adjust the height of the photogate, make sure that it is triggered only by the flag. The string should not trigger the photogate. You can tell when the photogate is triggered by looking for the red LED to light when the infrared LED is blocked. Ensure that the red LED only lights when the proper portion of the cart passes through.\n",
    "\n",
    "When choosing the positions for your photogate, think carefully about whether you want the cart to be coasting through the gate or experiencing a force as it travels through the gate. Also keep in mind that the airtrack only reduces friction, it does not eliminate it."
   ]
  },
  {
   "cell_type": "markdown",
   "id": "daa0a194",
   "metadata": {},
   "source": [
    "### Measuring the Spring Constant\n",
    "It will be easiest to measure the compression of the spring while it is on a long rod. This will keep the spring from bending while weights are applied to the spring. Place one end of the rod on the table, then place the spring on the rod, and then place a washer on top of the spring. You should then be able to measure the compression of the spring as a function of the masses you apply. A series of ten 100 g weights should give you a good graph. (It might be instructive to start with ten 10 g weights before applying the remaining nine 100g weights to see if the spring constant is truly linear.)\n",
    "\n",
    "<div align=\"center\">\n",
    "<img src=\"https://github.com/JNichols-19/PhysicsLabs/blob/main/images/Airtrack%20Images/Measuring%20the%20Spring%20constant.PNG?raw=true\" width=\"200\"/>\n",
    "</div>  \n",
    "\n",
    "**Don’t forget to include the mass of the washer and do not exceed 1.1 kg of mass on the spring!**\n",
    "\n",
    "(Ask your instructor how to remove and use one of the end-brackets of the air-track to support the bottom portion of the rod if that would help make your compression measurements easier).\n",
    "\n",
    "You must use PASCO Capstone to create the graph of \"Weight vs. Compression\":  \n",
    "1. Start the Capstone program and click “Table & Graph” in the main window.\n",
    "2. In the first table column, click `<Select Measurement>` and then select “Create New” “User-Entered Data” in the cascading menus.\n",
    "3. Rename the column either “Weight” or “Measured Compression” when the “User Data 1/2” title is highlighted in blue and put the appropriate units (“N” or “m”).\n",
    "4. In the graph, you can then click on the `<Select Measurement>` button on each axis and select the data you would like on that axis.\n",
    "\n",
    "**For reasons you will soon discover, plot the *compression* on the x-axis.** You will need to print\n",
    "the graphs you produce for each team member. **Be sure to properly label your graphs!**"
   ]
  },
  {
   "cell_type": "markdown",
   "id": "4a0fbbc2",
   "metadata": {},
   "source": [
    "## Experiment 1: Gravitational Potential Energy vs. Kinetic Energy\n",
    "For this experiment, repeat the set up from the last lab. You will be comparing the initial potential energy of the mass hanger to **the sum of** the final kinetic energies of both the cart and the mass hanger (the instant before it strikes the ground). Do four trials (for statistics) for four different combinations of masses (the hanger mass must change each time).\n",
    "\n",
    "Where should the photogate be placed for this experiment?"
   ]
  },
  {
   "cell_type": "code",
   "execution_count": 26,
   "id": "73328c22",
   "metadata": {},
   "outputs": [
    {
     "name": "stdout",
     "output_type": "stream",
     "text": [
      "Data for: \n",
      "m_cart = 0.18995 (kg)  𝛿m_cart = 5e-06\n",
      "m_hang = 0.01175 (kg)  𝛿m_hang = 5e-06\n",
      "h = 0.952 (m)  𝛿h = 0.0005\n",
      "Predicted v_p_f = 1.028 (m/s)  𝛿v_p_f = 0.0007081\n",
      "\n",
      "Cart 1\n"
     ]
    },
    {
     "data": {
      "text/html": [
       "<div>\n",
       "<style scoped>\n",
       "    .dataframe tbody tr th:only-of-type {\n",
       "        vertical-align: middle;\n",
       "    }\n",
       "\n",
       "    .dataframe tbody tr th {\n",
       "        vertical-align: top;\n",
       "    }\n",
       "\n",
       "    .dataframe thead th {\n",
       "        text-align: right;\n",
       "    }\n",
       "</style>\n",
       "<table border=\"1\" class=\"dataframe\">\n",
       "  <thead>\n",
       "    <tr style=\"text-align: right;\">\n",
       "      <th></th>\n",
       "      <th>Trial</th>\n",
       "      <th>Measured v_f (m/s)</th>\n",
       "    </tr>\n",
       "  </thead>\n",
       "  <tbody>\n",
       "    <tr>\n",
       "      <th>0</th>\n",
       "      <td>1</td>\n",
       "      <td>0.98</td>\n",
       "    </tr>\n",
       "    <tr>\n",
       "      <th>1</th>\n",
       "      <td>2</td>\n",
       "      <td>0.98</td>\n",
       "    </tr>\n",
       "    <tr>\n",
       "      <th>2</th>\n",
       "      <td>3</td>\n",
       "      <td>0.97</td>\n",
       "    </tr>\n",
       "    <tr>\n",
       "      <th>3</th>\n",
       "      <td>4</td>\n",
       "      <td>0.99</td>\n",
       "    </tr>\n",
       "  </tbody>\n",
       "</table>\n",
       "</div>"
      ],
      "text/plain": [
       "   Trial  Measured v_f (m/s)\n",
       "0      1                0.98\n",
       "1      2                0.98\n",
       "2      3                0.97\n",
       "3      4                0.99"
      ]
     },
     "metadata": {},
     "output_type": "display_data"
    },
    {
     "name": "stdout",
     "output_type": "stream",
     "text": [
      "𝛿v = 0.00066 (m/s)\n"
     ]
    }
   ],
   "source": [
    "# Raw Data 1\n",
    "# Cart 1\n",
    "\n",
    "# Import Numpy and Pandas with standard names\n",
    "import pandas as pd\n",
    "import numpy as np\n",
    "\n",
    "# Create an empty numpy array to hold the raw data\n",
    "raw_data_1 = np.empty((4,2))\n",
    "\n",
    "# Set the trial number column identifiers for each Trial\n",
    "raw_data_1[0][0]=1\n",
    "raw_data_1[1][0]=2\n",
    "raw_data_1[2][0]=3\n",
    "raw_data_1[3][0]=4\n",
    "\n",
    "# Create a Pandas dataframe, and convert the Trial number column to integer format\n",
    "df1 = pd.DataFrame(raw_data_1, columns=[\"Trial\", \n",
    "                                        \"Measured v_f (m/s)\"])\n",
    "\n",
    "df1['Trial'] = df1['Trial'].astype(int)\n",
    "\n",
    "\n",
    "#### Enter Raw Data Here!!!!!!!!!!!!!! ####\n",
    "\n",
    "# Mass of the cart (kg)\n",
    "m_cart1 = 0.18995\n",
    "\n",
    "# Uncertainty of mass of cart\n",
    "delta_m_cart = 0.000005\n",
    "\n",
    "# Mass of hanging mass (kg)\n",
    "m_hang = 0.01175\n",
    "\n",
    "# Uncertainty of hanging mass \n",
    "delta_m_hang = 0.000005\n",
    "\n",
    "# Height of the spring (m)\n",
    "h = 0.952\n",
    "\n",
    "# Uncertainty of Height of the spring\n",
    "delta_h = 0.0005\n",
    "\n",
    "\n",
    "# Predicted Final Velocity (m/s)\n",
    "v_p = 1.028\n",
    "\n",
    "# Uncertainty of Final Velocity\n",
    "delta_v_p = 0.0007081\n",
    "\n",
    "\n",
    "# Enter the measured values of v_f (m/s)\n",
    "df1['Measured v_f (m/s)'] = [0.98,0.98,0.97,0.99]\n",
    "\n",
    "###########################################\n",
    "\n",
    "# calculates the mass of the cart with the mass of the hanger and its uncertainty\n",
    "m_total = m_cart1 + m_hang\n",
    "#print(m_total)\n",
    "delta_m_total = np.sqrt(2) * delta_m_cart\n",
    "#print(delta_m_total)\n",
    "\n",
    "# Finds the average measured final velocity\n",
    "vf_sum = 0\n",
    "for i in range(len(df1['Measured v_f (m/s)'])):\n",
    "    vf_sum += df1['Measured v_f (m/s)'][i]\n",
    "av_vf = vf_sum/(len(df1['Measured v_f (m/s)']))\n",
    "\n",
    "# Calculates the uncertainty of the velocity using the average\n",
    "uncertainty_v = av_vf * np.sqrt((delta_m_hang/m_hang)**2 + (delta_h/h)**2 + (delta_m_total/m_total)**2)\n",
    "\n",
    "# prints out the cart data\n",
    "print(\"Data for: \")\n",
    "print(\"m_cart =\", m_cart1, \"(kg)  𝛿m_cart =\", delta_m_cart)\n",
    "print(\"m_hang =\", m_hang, \"(kg)  𝛿m_hang =\", delta_m_hang)\n",
    "print(\"h =\", h, \"(m)  𝛿h =\", delta_h)\n",
    "print(\"Predicted v_p_f =\", v_p, \"(m/s)  𝛿v_p_f =\", delta_v_p)\n",
    "print(\"\")\n",
    "\n",
    "# Display the dataframe\n",
    "from IPython.display import display\n",
    "print (\"Cart 1\")\n",
    "display(df1)\n",
    "\n",
    "# Print statements for uncertainty offinal velocity\n",
    "print(\"𝛿v = %0.5f (m/s)\" % (uncertainty_v))"
   ]
  },
  {
   "cell_type": "markdown",
   "id": "ff41268a",
   "metadata": {},
   "source": [
    "## Experiment 2: Spring Potential Energy vs. Kinetic Energy\n",
    "For this experiment, you will store potential energy in a compressed spring and launch the cart down the airtrack. You will need to use the 3” rod to support the spring to launch the cart. See the diagram below. The best way to launch the cart is to use a fingernail to hold the cart back on the compressed spring and then let the cart slip out from under your fingernail. You might devise a better method, but it is important to release the cart as quickly as possible.  \n",
    "\n",
    "<div align=\"center\">\n",
    "<img src=\"https://github.com/JNichols-19/PhysicsLabs/blob/main/images/Airtrack%20Images/Lab%205%20Experiment%202.PNG?raw=true\" width=\"400\"/>\n",
    "</div>  \n",
    "\n",
    "**Do not fully compress the spring!** The last few millimeters are non-linear. But don’t be too gentle: at least compress the spring 1 cm.\n",
    "\n",
    "You will need to perform four trial launches for each value of compression, $x_{s}$, that you determine is necessary (minimum of two). Consider carefully what your uncertainty, $ \\delta x_{s}$, in compression is over each set of trials. This will be important in calculating your uncertainty in the stored potential energy.\n",
    "\n",
    "Where should the photogate be placed for *this* experiment?"
   ]
  },
  {
   "cell_type": "markdown",
   "id": "71d2b6c4",
   "metadata": {},
   "source": [
    "## Experiment 3: Spring Potential Energy vs. Gravitational Potential Energy\n",
    "**This experiment is optional.**\n",
    "\n",
    "Remove the photogate and prop the leg on the far end of the airtrack (away from the spring launcher) on a wooden “shim” (a 2x4). By compressing the spring, you can launch the cart up the inclined airtrack. You will need to find an accurate method for determining the change in height between the starting and ending positions of the glider. Should you use a direct measurement (from a meter stick) or an indirect measurement (knowing the angle and measuring the distance the cart moved along the track)? \n",
    "\n",
    "If you perform this experiment, you must record the data and describe it carefully in your report."
   ]
  },
  {
   "cell_type": "markdown",
   "id": "96cd5e13",
   "metadata": {},
   "source": [
    "# Your Report\n",
    "\n",
    "### Experimental Procedure\n",
    "You will need to write a page or two describing how you set up your experiment and collected\n",
    "your data. Specifically, you must mention:\n",
    "\n",
    "- How did you measure the spring constant of your spring?\n",
    "- Describe the setup you used to compare gravitational-potential and kinetic energies.\n",
    "    - How did you ensure that the cart’s potential energy did not change?\n",
    "    - How did you measure the height of your mass hanger and keep that height consistent between runs?\n",
    "    - Where did you place your photogate and what did you use for the “flag?”\n",
    "    - How did you compute the velocity of the mass hanger for its kinetic energy?\n",
    "- Describe the setup you used to compare spring-potential and kinetic energies.\n",
    "    - How did you measure the amount you compressed the spring? What was your uncertainty in that measurement?\n",
    "    - Where did you place your photogate and what did you use for your “flag?”\n",
    "    \n",
    "Write it so that someone else could repeat your experiment by just reading this section. Talk\n",
    "about any problems you encountered and how you handled them."
   ]
  },
  {
   "cell_type": "markdown",
   "id": "17625b57",
   "metadata": {},
   "source": [
    "### Data\n",
    "- Report the measured spring constant for your spring. Include your graph with the slope labeled.\n",
    "- Include a graph of Initial Potential Energy vs. Final Kinetic Energy for each of the mass combinations you tried. Report the slope of this graph.\n",
    "- Make a table for the initial spring potential energy and the final kinetic energy of the cart for your two values of $x_{s}$. A third column should list the percent differences between these two numbers."
   ]
  },
  {
   "cell_type": "markdown",
   "id": "30146b2c",
   "metadata": {},
   "source": [
    "### Results and Conclusion\n",
    "This will be your longest section. Use good paragraph structure to compare each experimental\n",
    "result with each theoretical prediction:\n",
    "\n",
    "- How do your initial and final energies compare for each experiment?\n",
    "- Compute the spring constant for your spring given the results in the second experiment. How does this compare to the value you measured initially?\n",
    "- Does your data support or refute Conservation of Mechanical Energy? What, if anything, might have interfered with perfect agreement?\n",
    "\n",
    "As always, talk about your uncertainties, how they affected your data and how you might be able to reduce them. Make sure that you discuss all possible sources of uncertainties in your experiments."
   ]
  },
  {
   "cell_type": "markdown",
   "id": "24ce93bf",
   "metadata": {},
   "source": [
    "### Appendix\n",
    "*Include your signed raw data sheet(s) and sample calculations.*"
   ]
  }
 ],
 "metadata": {
  "kernelspec": {
   "display_name": "Python 3",
   "language": "python",
   "name": "python3"
  },
  "language_info": {
   "codemirror_mode": {
    "name": "ipython",
    "version": 3
   },
   "file_extension": ".py",
   "mimetype": "text/x-python",
   "name": "python",
   "nbconvert_exporter": "python",
   "pygments_lexer": "ipython3",
   "version": "3.6.8"
  }
 },
 "nbformat": 4,
 "nbformat_minor": 5
}
