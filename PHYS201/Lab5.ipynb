{
 "cells": [
  {
   "cell_type": "markdown",
   "id": "5b1a99e7",
   "metadata": {},
   "source": [
    "# Experiment 5: Air Track III---Conservation of Energy\n",
    "### Objectives\n",
    "- To learn to take good measurements\n",
    "- To learn how to estimate and propagate errors\n",
    "- To learn how to take measurements to verify a theory\n",
    "- To learn how to measure potential and kinetic energies\n",
    "\n",
    "### Equipment\n",
    "- One Airtrack, Blower, and Cart\n",
    "- One accessory kit containing: one pulley, one mass hanger, and masses for cart and hanger.\n",
    "- One string (150 cm long)\n",
    "- One photogate\n",
    "- One 30 cm ruler\n",
    "- One scale\n",
    "- One vernier caliper\n",
    "- One two-meter stick\n",
    "- One two-meter stick\n",
    "- One 3” x 5/32” rod\n",
    "- One 6” x 5/32” rod\n",
    "- One 6 mm x 44 mm spring\n",
    "- One flat washer\n",
    "- One 2x4\n",
    "- One 1x4\n",
    "- One set of slotted weights: (Eight 100g and four 50g)\n",
    "\n",
    "### Safety\n",
    "- **Be careful placing the carts on the track. Do not damage the track.**\n",
    "- Please place paper underneath the carts when they are resting on the track without the air turned on. **Do not slide the carts on the track without the air turned on.**\n",
    "- **Do not launch the cart unless a rubber-band bumper is secured to the opposite end of the track.**"
   ]
  },
  {
   "cell_type": "markdown",
   "id": "b0863133",
   "metadata": {},
   "source": []
  }
 ],
 "metadata": {
  "kernelspec": {
   "display_name": "Python 3",
   "language": "python",
   "name": "python3"
  },
  "language_info": {
   "codemirror_mode": {
    "name": "ipython",
    "version": 3
   },
   "file_extension": ".py",
   "mimetype": "text/x-python",
   "name": "python",
   "nbconvert_exporter": "python",
   "pygments_lexer": "ipython3",
   "version": "3.6.8"
  }
 },
 "nbformat": 4,
 "nbformat_minor": 5
}
