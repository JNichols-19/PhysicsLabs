{
 "cells": [
  {
   "cell_type": "markdown",
   "id": "232a328a",
   "metadata": {},
   "source": [
    "# Experiment 5: Air Track III---Conservation of Energy\n",
    "### Objectives\n",
    "- To learn to take good measurements\n",
    "- To learn how to estimate and propagate errors\n",
    "- To learn how to take measurements to verify a theory\n",
    "- To learn how to measure potential and kinetic energies\n",
    "\n",
    "### Equipment\n",
    "- One Airtrack, Blower, and Cart\n",
    "- One accessory kit containing: one pulley, one mass hanger, and masses for cart and hanger.\n",
    "- One string (150 cm long)\n",
    "- One photogate\n",
    "- One 30 cm ruler\n",
    "- One scale\n",
    "- One vernier caliper\n",
    "- One two-meter stick\n",
    "- One two-meter stick\n",
    "- One 3” x 5/32” rod\n",
    "- One 6” x 5/32” rod\n",
    "- One 6 mm x 44 mm spring\n",
    "- One flat washer\n",
    "- One 2x4\n",
    "- One 1x4\n",
    "- One set of slotted weights: (Eight 100g and four 50g)\n",
    "\n",
    "### Safety\n",
    "- **Be careful placing the carts on the track. Do not damage the track.**\n",
    "- Please place paper underneath the carts when they are resting on the track without the air turned on. **Do not slide the carts on the track without the air turned on.**\n",
    "- **Do not launch the cart unless a rubber-band bumper is secured to the opposite end of the track.**"
   ]
  },
  {
   "cell_type": "markdown",
   "id": "c79d51a4",
   "metadata": {},
   "source": [
    "# Introduction\n",
    "There are two kinds of energy in mechanical systems: Potential energy and Kinetic energy. Potential energy is stored energy. When this energy is released, it can be converted into kinetic energy---energy of motion. In this lab you will conduct two experiments to determine if all of the potential energy stored in a system can be converted into kinetic energy.\n",
    "\n",
    "In the first experiment, you will convert gravitational potential energy to kinetic energy (using the hanging mass and pulley). In the second, you will convert spring potential energy to kinetic energy."
   ]
  },
  {
   "cell_type": "markdown",
   "id": "46faf849",
   "metadata": {},
   "source": [
    "# Theory\n",
    "### Kinematics\n",
    "First and foremost, you will need to compute the velocity of the aitrack glider. The information you will have, however, is velocity computed by a photogate. The photogate measures the\n",
    "velocity of the glider as it passes through by timing how long the infrared LED is blocked by the object (sometimes called a “flag”) passing through and uses the definition of velocity:  \n",
    "\\begin{equation}\n",
    "v \\equiv \\frac{\\Delta x}{\\Delta t}\n",
    "\\label{eq:velocity}\n",
    "\\end{equation}\n",
    "\n",
    "where $\\Delta x$ is the length of the flag and $\\Delta t$ is the time the LED was blocked."
   ]
  },
  {
   "cell_type": "markdown",
   "id": "d716c42c",
   "metadata": {},
   "source": [
    "### Gravitational Potential Energy\n",
    "Recall that the amount of energy stored in an object in a gravitational field is  \n",
    "\n",
    "\\begin{equation}\n",
    "U_{g} = m g \\Delta y\n",
    "\\label{eq:energy_grav}\n",
    "\\end{equation}  \n",
    "\n",
    "where *m* is the mass of the object, *g* is the gravitational constant, and $ \\Delta y$ is the change in height of that object."
   ]
  },
  {
   "cell_type": "markdown",
   "id": "dfb2c48d",
   "metadata": {},
   "source": [
    "### Spring Potential Energy\n",
    "The amount of energy stored in a compressed spring is  \n",
    "\n",
    "\\begin{equation}\n",
    "U_{s} = \\frac{1}{2} k (\\Delta x)^2\n",
    "\\label{eq:spring}\n",
    "\\end{equation}  \n",
    "\n",
    "where *k* is the spring constant. You will need to measure this spring constant for your spring. You can find this constant by recalling Hooke’s Law:  \n",
    "\n",
    "\\begin{equation}\n",
    "F = -k \\Delta x\n",
    "\\label{eq:Hooke}\n",
    "\\end{equation}  \n",
    "\n",
    "The force you apply to the spring is directly related to the compression, $ \\Delta x$, of that spring (the negative sign is a reminder that the force is opposes the spring compression). By plotting the force vs. compression for different weights, you can plot a straight line. The slope of that straight line will be the spring constant (if you have plotted the correct variable on the correct axis---recall the definition of the slope of a straight line and you’ll figure it out)."
   ]
  },
  {
   "cell_type": "markdown",
   "id": "b523fd79",
   "metadata": {},
   "source": [
    "### Kinetic Energy\n",
    "Kinetic energy is the energy of motion. For objects moving much slower than the speed of light, we can use the formula:  \n",
    "\n",
    "\\begin{equation}\n",
    "K = \\frac{1}{2} m v^2\n",
    "\\label{eq:kin_energy}\n",
    "\\end{equation}  \n",
    "\n",
    "where *m* is the mass of all the objects moving at speed v."
   ]
  },
  {
   "cell_type": "markdown",
   "id": "f4fb63c7",
   "metadata": {},
   "source": [
    "### Uncertainty Analysis\n",
    "Your Lab Manual and the previous labs can guide you in estimating the uncertainties in your measurements and propagating those uncertainties into your computed energies. The uncertainty in the masses of the glider and hanging mass will be determined by the accuracy of the scale. In some cases, it might be easier to use the standard deviation of a large number of measurements as your velocity measurement uncertainty. The uncertainty in your spring constant and kinetic and potential energies, however, will have to be computed using the three equations in your Lab Manual.\n",
    "\n",
    "In order to minimize random errors, it is extremely important that each of your measurements be performed several times."
   ]
  },
  {
   "cell_type": "markdown",
   "id": "b090f2ab",
   "metadata": {},
   "source": []
  }
 ],
 "metadata": {
  "kernelspec": {
   "display_name": "Python 3",
   "language": "python",
   "name": "python3"
  },
  "language_info": {
   "codemirror_mode": {
    "name": "ipython",
    "version": 3
   },
   "file_extension": ".py",
   "mimetype": "text/x-python",
   "name": "python",
   "nbconvert_exporter": "python",
   "pygments_lexer": "ipython3",
   "version": "3.6.8"
  }
 },
 "nbformat": 4,
 "nbformat_minor": 5
}
