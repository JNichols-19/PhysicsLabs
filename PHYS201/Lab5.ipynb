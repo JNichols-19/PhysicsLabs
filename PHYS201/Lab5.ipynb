{
 "cells": [
  {
   "cell_type": "markdown",
   "id": "05671a0b",
   "metadata": {},
   "source": [
    "# Experiment 5: Air Track III---Conservation of Energy\n",
    "### Objectives\n",
    "- To learn to take good measurements\n",
    "- To learn how to estimate and propagate errors\n",
    "- To learn how to take measurements to verify a theory\n",
    "- To learn how to measure potential and kinetic energies\n",
    "\n",
    "### Equipment\n",
    "- One Airtrack, Blower, and Cart\n",
    "- One accessory kit containing: one pulley, one mass hanger, and masses for cart and hanger.\n",
    "- One string (150 cm long)\n",
    "- One photogate\n",
    "- One 30 cm ruler\n",
    "- One scale\n",
    "- One vernier caliper\n",
    "- One two-meter stick\n",
    "- One two-meter stick\n",
    "- One 3” x 5/32” rod\n",
    "- One 6” x 5/32” rod\n",
    "- One 6 mm x 44 mm spring\n",
    "- One flat washer\n",
    "- One 2x4\n",
    "- One 1x4\n",
    "- One set of slotted weights: (Eight 100g and four 50g)\n",
    "\n",
    "### Safety\n",
    "- **Be careful placing the carts on the track. Do not damage the track.**\n",
    "- Please place paper underneath the carts when they are resting on the track without the air turned on. **Do not slide the carts on the track without the air turned on.**\n",
    "- **Do not launch the cart unless a rubber-band bumper is secured to the opposite end of the track.**"
   ]
  },
  {
   "cell_type": "markdown",
   "id": "80f3a473",
   "metadata": {},
   "source": [
    "# Introduction\n",
    "There are two kinds of energy in mechanical systems: Potential energy and Kinetic energy. Potential energy is stored energy. When this energy is released, it can be converted into kinetic energy---energy of motion. In this lab you will conduct two experiments to determine if all of the potential energy stored in a system can be converted into kinetic energy.\n",
    "\n",
    "In the first experiment, you will convert gravitational potential energy to kinetic energy (using the hanging mass and pulley). In the second, you will convert spring potential energy to kinetic energy."
   ]
  },
  {
   "cell_type": "markdown",
   "id": "0944d7ac",
   "metadata": {},
   "source": [
    "# Theory\n",
    "### Kinematics\n",
    "First and foremost, you will need to compute the velocity of the aitrack glider. The information you will have, however, is velocity computed by a photogate. The photogate measures the\n",
    "velocity of the glider as it passes through by timing how long the infrared LED is blocked by the object (sometimes called a “flag”) passing through and uses the definition of velocity:  \n",
    "\\begin{equation}\n",
    "v \\equiv \\frac{\\Delta x}{\\Delta t}\n",
    "\\label{eq:velocity}\n",
    "\\end{equation}\n",
    "\n",
    "where $\\Delta x$ is the length of the flag and $\\Delta t$ is the time the LED was blocked."
   ]
  },
  {
   "cell_type": "markdown",
   "id": "53b6707a",
   "metadata": {},
   "source": [
    "### Gravitational Potential Energy\n",
    "Recall that the amount of energy stored in an object in a gravitational field is  \n",
    "\n",
    "\\begin{equation}\n",
    "U_{g} = m g \\Delta y\n",
    "\\label{eq:energy_grav}\n",
    "\\end{equation}  \n",
    "\n",
    "where *m* is the mass of the object, *g* is the gravitational constant, and $ \\Delta y$ is the change in height of that object."
   ]
  },
  {
   "cell_type": "markdown",
   "id": "c9b0b8c0",
   "metadata": {},
   "source": [
    "### Spring Potential Energy\n",
    "The amount of energy stored in a compressed spring is  \n",
    "\n",
    "\\begin{equation}\n",
    "U_{s} = \\frac{1}{2} k (\\Delta x)^2\n",
    "\\label{eq:spring}\n",
    "\\end{equation}  \n",
    "\n",
    "where *k* is the spring constant. You will need to measure this spring constant for your spring. You can find this constant by recalling Hooke’s Law:  \n",
    "\n",
    "\\begin{equation}\n",
    "F = -k \\Delta x\n",
    "\\label{eq:Hooke}\n",
    "\\end{equation}  \n",
    "\n",
    "The force you apply to the spring is directly related to the compression, $ \\Delta x$, of that spring (the negative sign is a reminder that the force is opposes the spring compression). By plotting the force vs. compression for different weights, you can plot a straight line. The slope of that straight line will be the spring constant (if you have plotted the correct variable on the correct axis---recall the definition of the slope of a straight line and you’ll figure it out)."
   ]
  },
  {
   "cell_type": "markdown",
   "id": "1ab77fdc",
   "metadata": {},
   "source": [
    "### Kinetic Energy\n",
    "Kinetic energy is the energy of motion. For objects moving much slower than the speed of light, we can use the formula:  \n",
    "\n",
    "\\begin{equation}\n",
    "K = \\frac{1}{2} m v^2\n",
    "\\label{eq:kin_energy}\n",
    "\\end{equation}  \n",
    "\n",
    "where *m* is the mass of all the objects moving at speed v."
   ]
  },
  {
   "cell_type": "markdown",
   "id": "8ca226cf",
   "metadata": {},
   "source": [
    "### Uncertainty Analysis\n",
    "Your Lab Manual and the previous labs can guide you in estimating the uncertainties in your measurements and propagating those uncertainties into your computed energies. The uncertainty in the masses of the glider and hanging mass will be determined by the accuracy of the scale. In some cases, it might be easier to use the standard deviation of a large number of measurements as your velocity measurement uncertainty. The uncertainty in your spring constant and kinetic and potential energies, however, will have to be computed using the three equations in your Lab Manual.\n",
    "\n",
    "In order to minimize random errors, it is extremely important that each of your measurements be performed several times."
   ]
  },
  {
   "cell_type": "markdown",
   "id": "167b410e",
   "metadata": {},
   "source": [
    "# Experimental Procedure\n",
    "\n",
    "### Setting up the Air Track\n",
    "Ensure that the pulley is securely inserted into the top hole in the bracket at the far end of the track, that it spins freely, and that the hanging mass does not strike the table as it falls. You will need to level the airtrack for two of the experiments. Look back to the second lab for instructions if you’ve forgotten how to do this."
   ]
  },
  {
   "cell_type": "markdown",
   "id": "85ca429b",
   "metadata": {},
   "source": [
    "### Setting up a Photogate\n",
    "1. Turn on the PASCO 850 Interface and start the PASCO Capstone software.\n",
    "2. Plug a photogate into a Digital input.\n",
    "3. Click the “Hardware Setup” tab in the left “Tools” palette, left-click the jack on the diagram where you inserted the plug, and select “Photogate” from the drop-down menu.\n",
    "4. You should see a tab labeled “Timer Setup.” Open that tab and set up a pre-configured timer:\n",
    "    1. Select the photogate you just installed.\n",
    "    2. You will be using this photogate with a single flag.\n",
    "    3. The computer need only keep track of the speed through the gate.\n",
    "    4. A text box requesting the length of the flag in meters will appear. Measure the flag as best you can and enter that information in the box.\n",
    "    5. Give this sensor a name such as “Photogate 1” or similar."
   ]
  },
  {
   "cell_type": "code",
   "execution_count": 1,
   "id": "0036033c",
   "metadata": {},
   "outputs": [],
   "source": [
    "# Flag length measurement (m)\n",
    "flag_len = 0.1\n",
    "\n",
    "# Flag Length Uncertainty\n",
    "delta_x = 0.005"
   ]
  },
  {
   "cell_type": "markdown",
   "id": "fd2976df",
   "metadata": {},
   "source": [
    "When you adjust the height of the photogate, make sure that it is triggered only by the flag. The string should not trigger the photogate. You can tell when the photogate is triggered by looking for the red LED to light when the infrared LED is blocked. Ensure that the red LED only lights when the proper portion of the cart passes through.\n",
    "\n",
    "When choosing the positions for your photogate, think carefully about whether you want the cart to be coasting through the gate or experiencing a force as it travels through the gate. Also keep in mind that the airtrack only reduces friction, it does not eliminate it."
   ]
  },
  {
   "cell_type": "markdown",
   "id": "663a1efd",
   "metadata": {},
   "source": [
    "### Measuring the Spring Constant\n",
    "It will be easiest to measure the compression of the spring while it is on a long rod. This will keep the spring from bending while weights are applied to the spring. Place one end of the rod on the table, then place the spring on the rod, and then place a washer on top of the spring. You should then be able to measure the compression of the spring as a function of the masses you apply. A series of ten 100 g weights should give you a good graph. (It might be instructive to start with ten 10 g weights before applying the remaining nine 100g weights to see if the spring constant is truly linear.)\n",
    "\n",
    "<div align=\"center\">\n",
    "<img src=\"https://github.com/JNichols-19/PhysicsLabs/blob/main/images/Airtrack%20Images/Measuring%20the%20Spring%20constant.PNG?raw=true\" width=\"200\"/>\n",
    "</div>  \n",
    "\n",
    "**Don’t forget to include the mass of the washer and do not exceed 1.1 kg of mass on the spring!**\n",
    "\n",
    "(Ask your instructor how to remove and use one of the end-brackets of the air-track to support the bottom portion of the rod if that would help make your compression measurements easier).\n",
    "\n",
    "You must use PASCO Capstone to create the graph of \"Weight vs. Compression\":  \n",
    "1. Start the Capstone program and click “Table & Graph” in the main window.\n",
    "2. In the first table column, click `<Select Measurement>` and then select “Create New” “User-Entered Data” in the cascading menus.\n",
    "3. Rename the column either “Weight” or “Measured Compression” when the “User Data 1/2” title is highlighted in blue and put the appropriate units (“N” or “m”).\n",
    "4. In the graph, you can then click on the `<Select Measurement>` button on each axis and select the data you would like on that axis.\n",
    "\n",
    "**For reasons you will soon discover, plot the *compression* on the x-axis.** You will need to print\n",
    "the graphs you produce for each team member. **Be sure to properly label your graphs!**"
   ]
  },
  {
   "cell_type": "markdown",
   "id": "7bf8d3ef",
   "metadata": {},
   "source": []
  }
 ],
 "metadata": {
  "kernelspec": {
   "display_name": "Python 3",
   "language": "python",
   "name": "python3"
  },
  "language_info": {
   "codemirror_mode": {
    "name": "ipython",
    "version": 3
   },
   "file_extension": ".py",
   "mimetype": "text/x-python",
   "name": "python",
   "nbconvert_exporter": "python",
   "pygments_lexer": "ipython3",
   "version": "3.6.8"
  }
 },
 "nbformat": 4,
 "nbformat_minor": 5
}
