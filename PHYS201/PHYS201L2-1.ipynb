{
 "cells": [
  {
   "cell_type": "markdown",
   "metadata": {},
   "source": [
    "# Experiment 2: Airtrack I---Kinematics\n",
    "### Objectives\n",
    "- To learn good lab practice\n",
    "- To learn how to estimate and propagate uncertainties\n",
    "- To learn how position, velocity, and acceleration are related\n",
    "- To learn how to use the Airtrack\n",
    "- To learn how to use PASCO Capstone Data Acquisition and Analysis software\n",
    "\n",
    "### Equipment\n",
    "- One Airtrack, Blower, Cart, and Acoustic Sensor\n",
    "- One wooden reflector\n",
    "- One 2x4 “shim”\n",
    "- One 30 cm plastic ruler\n",
    "- One two-meter stick\n",
    "\n",
    "### Safety\n",
    "- **Do not attempt to push the carts faster than 1 m/s.**\n",
    "- **Be careful placing the carts on the track.**\n",
    "- **Do not damage the track.** Please place paper underneath the carts when they are resting on the track without the air turned on.\n",
    "- **Do not slide the carts on the track without the air turned on.**"
   ]
  },
  {
   "cell_type": "markdown",
   "metadata": {},
   "source": [
    "# Introduction\n",
    "\n",
    "Before one can study the action of forces on objects, one must be able to describe motion. This description of motion is called $kinematics$. We will be learning how to use two tools to investigate the meanings of the three kinematic equations for motion in one dimension:  \n",
    "The definition of average velocity: \n",
    "\n",
    "\\begin{equation}\n",
    "v_{avg} \\equiv \\frac{\\Delta x}{\\Delta t}\n",
    "\\label{eq:v_avg}\n",
    "\\end{equation}\n",
    "\n",
    "The definition of average acceleration:  \n",
    "\n",
    "\\begin{equation}\n",
    "a_{avg} \\equiv \\frac{\\Delta v}{\\Delta t}\n",
    "\\label{eq:a_avg}\n",
    "\\end{equation}\n",
    "\n",
    "And the position of an object undergoing constant acceleration:  \n",
    "\n",
    "\\begin{equation}\n",
    "x(t) = \\frac{1}{2} a t^2 + v_o t + x_o\n",
    "\\label{eq:x_of_t}\n",
    "\\end{equation}\n",
    "\n",
    "In this lab, your job will be to compare different measurements of velocity and acceleration for an air-cart experiencing both no acceleration and constant acceleration."
   ]
  },
  {
   "cell_type": "markdown",
   "metadata": {},
   "source": [
    "# Theory\n",
    "\n",
    "### Measurement of Velocity and Acceleration\n",
    "An acoustic sensor will measure the position of a cart on the airtrack at specific intervals of time. By use of the definition of velocity (Equation $\\eqref{eq:v_avg}$), we can compute the average velocity between two measurements. Notice that if we plot the position versus time, the fraction is the same as the rise divided by the run-- or the slope of the graph. By plotting *x* vs. *t*, we then find the slope of the graph and determine the velocity.\n",
    "\n",
    "This same technique works for determining acceleration. However, notice that the variables to plot are now *velocity* versus time."
   ]
  },
  {
   "cell_type": "markdown",
   "metadata": {},
   "source": [
    "### Analysis of Uncertainties\n",
    "It will be important to know what the uncertainties are in our computed velocities and accelerations.\n",
    "\n",
    "First, recall that a difference in position or time is a subtraction of two quantities:  \n",
    "\\begin{equation} \n",
    "\\Delta x = x_2 - x_1 \\nonumber\n",
    "\\end{equation}\n",
    "\n",
    "Therefore, we can use (R1) to compute the uncertainty in the difference:  \n",
    "\\begin{equation}\n",
    "(\\delta(\\Delta x))^2 = (\\delta x_2)^2 - (\\delta x_1)^2 \\nonumber\n",
    "\\end{equation}\n",
    "\n",
    "However, in this case, the uncertainties $\\delta x_1$ and $\\delta x_2$ should be the same, so we can say that the uncertainty in our computed difference is:  \n",
    "\\begin{equation} \n",
    "\\delta(\\Delta x) = \\sqrt{2} (\\delta x) \\nonumber\n",
    "\\end{equation} \n",
    "\n",
    "where $\\delta x$ is the uncertainty in a single position measurement. We can say the same for time differences:  \n",
    "\\begin{equation} \n",
    "\\delta(\\Delta t) = \\sqrt{2} (\\delta t) \\nonumber\n",
    "\\end{equation}\n",
    "\n",
    "where $\\delta t$ is the uncertainty in a single time measurement. Notice that the uncertainty in the difference is larger than the uncertainty in each individual measurement.\n",
    "\n",
    "Computing the uncertainty in velocity, $\\delta v$, is a straightforward application of (R2). Looking at Equation $\\eqref{eq:v_avg}$ we have:  \n",
    "\\begin{equation} \n",
    "\\left(\\frac{\\delta v}{v}\\right)^2 = \\left(\\frac{\\delta (\\Delta x)}{\\Delta x}\\right)^2 + \\left(\\frac{\\delta (\\Delta t)}{\\Delta t}\\right)^2 \\nonumber\n",
    "\\end{equation}\n",
    "\n",
    "This equation needs some work to become useful. Capstone will take data points at constant $\\Delta t$. But because $\\Delta x$ may be different for each measurement, we should try to remove it from our equation. We do this by using the definition of velocity to replace $\\Delta x$ with $v \\Delta t$:  \n",
    "\\begin{equation} \n",
    "\\left(\\frac{\\delta v}{v}\\right)^2 = \\left(\\frac{\\delta (\\Delta x)}{v \\Delta t}\\right)^2 + \\left(\\frac{\\delta (\\Delta t)}{\\Delta t}\\right)^2 \\nonumber\n",
    "\\end{equation}\n",
    "\n",
    "Factoring out $\\Delta t$ so that we need only use it once:  \n",
    "\\begin{equation} \n",
    "\\left(\\frac{\\delta v}{v}\\right)^2 = \\frac{1}{(\\Delta t)^2} \\left(\\left(\\frac{\\delta (\\Delta x)}{v}\\right)^2 + \\left(\\delta (\\Delta t)\\right)^2 \\right) \\nonumber\n",
    "\\end{equation}\n",
    "\n",
    "We may also multiply through by $v^2$:  \n",
    "\\begin{equation} \n",
    "\\left(\\delta v\\right)^2 = \\frac{1}{(\\Delta t)^2} \\left(\\left(\\delta (\\Delta x)\\right)^2 + v^2 \\left(\\delta (\\Delta t)\\right)^2 \\right)\n",
    "\\label{eq:v_unc}\n",
    "\\end{equation}\n",
    "\n",
    "Now we have an equation to find our uncertainty in velocity based on things we know. Notice that the uncertainty in the velocity *increases* with the velocity. Also notice that the uncertainty is *not zero* when the velocity is zero.\n",
    "Does this make sense?"
   ]
  },
  {
   "cell_type": "markdown",
   "metadata": {},
   "source": [
    "# Experimental Procedure\n",
    "\n",
    "### Leveling the Airtrack\n",
    "In order to study unaccelerated motion, we must ensure that gravity does not interfere. To do this, we must level the airtrack. The best method for leveling the airtrack is to use the cart itself to verify that it is not pulled one way or the other by gravity.  \n",
    "\n",
    "1. Turn on the blower (you should be able to feel the air coming out of the drilled holes) and place a cart at the 100 cm mark.\n",
    "2. Place your fingers at the front and rear of the cart so that it remains at rest.\n",
    "3. Release the cart without pushing it.\n",
    "\n",
    "If the cart tends to move to one side, you will need to raise that side (or lower the other side). This can be accomplished by rotating the feet on the two-foot support. If this is still not sufficient, you may need to place a folded sheet of paper under one of the two supports until the cart favors neither side. It’s OK if the cart slowly oscillates."
   ]
  },
  {
   "cell_type": "markdown",
   "metadata": {},
   "source": [
    "### Configuring the Acoustic Sensor\n",
    "Place a wooden reflector into the center top hole in the cart. You will now need to place the sensor so that it properly reads the position of the reflector.\n",
    "\n",
    "1. Place the sensor at the opposite end from where the air hose is placed.\n",
    "2. Place a cart at that end of the airtrack and set the sensor at the same height as the center of the wooden reflector.\n",
    "3. Ensure that the sensor is centered over the track and pointed straight down the track.\n",
    "4. Ensure that the top switch is in “cart” mode (*not* “stick figure” mode).\n",
    "\n",
    "There are two plugs which must be inserted into the PASCO 850 interface. The yellow plug goes into Digital Input 1 and the black plug goes into Digital Input 2."
   ]
  },
  {
   "cell_type": "markdown",
   "metadata": {},
   "source": [
    "### Using PASCO Capstone DAA\n",
    "Capstone will be used throughout the physics laboratories to collect data, so you should spend some time now learning how to use it. To set it up for the first time, the PASCO 850 interface must be turned on (press and hold the power button until it beeps and the green light is lit) and connected to the computer.\n",
    "\n",
    "1. Start Capstone.\n",
    "2. Click “Hardware Setup” on the left-side “Tools” palette. A picture of the PASCO 850 interface will appear.\n",
    "3. Click on the Digital Input 1 port and select “Motion Sensor II.”\n",
    "4. Click on “Properties” in the lower left. You will need to enter the proper speed of sound. The speed of sound is (331+0.6T) m/s where T is the air temperature in Celcius. Click “OK.”\n",
    "5. Click on “Hardware Setup” to close the window.\n",
    "6. In the right-side palette, drag “Graph” to the main window. A large graph will appear.\n",
    "\n",
    "At the very bottom of the window, notice the sample rate (in Hz). This number tells you how many data points are taken every second. You will need this number later.\n",
    "\n",
    "When you click “Record,” Capstone will start taking data on all the sensors attached to the 850 interface. When you click “Stop,” Capstone will stop taking data. Every Record/Stop sequence is considered a “run.” All of the data runs you gather are listed in the “Data Summary” tab on the left-side palette. Clicking “Data Summary” a second time will close that window."
   ]
  },
  {
   "cell_type": "markdown",
   "metadata": {},
   "source": [
    "### Testing the Acoustic Sensor using Capstone\n",
    "A very quick test of the sensor would be to click “Record” and move your hand towards and away from the sensor a few times and then click “Stop.” By clicking `<Select Measurement>` on the y-axis and selecting “Position (m),” Capstone will plot a graph of that data. If this works, then your sensor works and it’s time to test the alignment with your cart.\n",
    "    \n",
    "Turn on the air for your airtrack and place a cart on the track. Push the cart towards the sensor and click “Record.” Let the cart bounce back and forth between the bumpers a few times before clicking “Stop.” The new data should have replaced the old data on the graph. (If not, then there are two ways to have the new data plotted: (1) In the “Data Summary” tab, drag the desired run icon from under “Position” and drop it onto the graph. (2) The toolbar on the menu itself has a rainbow-colored triangle on it. Click the arrow next to that icon and select the data run you would like to plot.)\n",
    "\n",
    "The data should look something like this:  \n",
    "<div align=\"center\">\n",
    "<img src=\"https://github.com/JNichols-19/PhysicsLabs/blob/main/images/Airtrack%20Images/Lab2_Image1.PNG?raw=true\" width=\"400\"/>\n",
    "</div>\n",
    "\n"
   ]
  },
  {
   "cell_type": "markdown",
   "metadata": {},
   "source": [
    "### Troubleshooting\n",
    "If your data does not look like this, you will need to work on the alignment of your sensor with the reflector. Check the following things:  \n",
    "\n",
    "1. The sensor should be at the same height as the center of the reflector.\n",
    "2. The sensor should be pointed directly at the reflector.\n",
    "3. The reflector should be fully facing the sensor.\n",
    "4. The sensor must be centered on the track (look down over the sensor and make sure the center of the gold circle is over the ridge-line of the airtrack).\n",
    "5. The sensor must be pointed directly down the track.\n",
    "6. The switch on the sensor must be set to “Cart.”\n",
    "7. The green light should blink while data is being taken.\n",
    "\n",
    "We will be using the PASCO Capstone software frequently in all the laboratory courses, so it is important that you become familiar with this software now. Once your data looks pretty good, perform the following functions:\n",
    "\n",
    "1. In the “Data Summary” tab, double-click on the data tag and rename it to “Calibration Run #1.”\n",
    "2. Print your graph in landscape mode (File -> Print, then click the “Preferences” button).\n",
    "3. Have your instructor sign off on your graph.\n",
    "4. Grab the right side of your graph and make some space for another display.\n",
    "5. Drag “Meter” or “Digits” or “Table” display into the open area, click on that display’s `<Select Measurement>` button and select a data source, then click Record/Stop.\n",
    "6. Click each button on the graph to see what it does.\n",
    "7. Learn how to pan and zoom your graph.\n",
    "8. Drag the legend around the graph.\n",
    "9. Delete all your graphs/tables (select the display by clicking on it, then click on the “Delete Selected Display” icon in the upper Capstone toolbar).\n",
    "10. Delete every data run and start over by clicking the arrow next to “Delete Last Run” in the bottom tool palette and selecting “Delete All Runs.”"
   ]
  },
  {
   "cell_type": "code",
   "execution_count": 1,
   "metadata": {},
   "outputs": [
    {
     "name": "stdout",
     "output_type": "stream",
     "text": [
      "\n"
     ]
    },
    {
     "data": {
      "text/plain": [
       "<Figure size 700x500 with 1 Axes>"
      ]
     },
     "metadata": {},
     "output_type": "display_data"
    },
    {
     "name": "stdout",
     "output_type": "stream",
     "text": [
      "\n"
     ]
    }
   ],
   "source": [
    "# Sensor test (Sawtooth plot)\n",
    "\n",
    "import numpy as np\n",
    "import matplotlib.pyplot as plt\n",
    "import pandas as pd\n",
    "from P201_Functions import *\n",
    "\n",
    "# Reads the name of the csv file and gets the data\n",
    "df = pd.read_csv(\"./Demo files/Sawtooth test.csv\")\n",
    "\n",
    "# Prints information about the file\n",
    "#df.info()\n",
    "\n",
    "print(\"\")\n",
    "\n",
    "# Defines the x and y values\n",
    "time = df.filter(['Time (s)'], axis=1).dropna()\n",
    "position = df.filter(['Position (m)'], axis=1).dropna()\n",
    "\n",
    "# Create a figure of reasonable size and resolution, white background, black edge color\n",
    "fig=plt.figure(figsize=(7,5), dpi= 100, facecolor='w', edgecolor='k')\n",
    "\n",
    "# Gets the data values for x and y\n",
    "x_data = time.values.reshape(-1, 1)\n",
    "y_data = position.values.reshape(-1, 1)\n",
    "\n",
    "# Creates the base plot with titles\n",
    "# df.plot(x='Time (s)', y='Position (m)', kind ='scatter')\n",
    "plt.plot(x_data,y_data,'b.')\n",
    "plt.ylabel('Position (m)')\n",
    "plt.xlabel('Time (s)')\n",
    "plt.title('Troubleshooting the Capstone Software')\n",
    "\n",
    "# Add a dotted line through the data points\n",
    "plt.plot(x_data,y_data,'b--')\n",
    "\n",
    "# Displays the plot\n",
    "plt.show()\n",
    "\n",
    "print(\"\")"
   ]
  },
  {
   "cell_type": "markdown",
   "metadata": {},
   "source": [
    "### Acoustic Sensor Uncertainty\n",
    "The acoustic sensor can only measure distance so well. How well? You’ll need to determine that. The best way to do this is to take many distance measurements at a fixed location and find the standard deviation of those measurements. Here is one method of doing this:\n",
    "\n",
    "Turn the air off so that the cart doesn’t move. At three locations on your airtrack (near the sensor, at the 100 cm mark, and at the far end from the sensor):\n",
    "1. $Carefully$ place the cart at its location on a sheet of paper and press “Record.”\n",
    "2. After 30 seconds, press “Stop.”\n",
    "3. Drag a “Table” from the right tool palette onto the main window.\n",
    "4. In one column, click the `<Select Measurement>` button and select “Time (s).”\n",
    "5. In the other column, click the `<Select Measurement>` button and select “Position (m).”\n",
    "6. The cell above should show your last data run. If not, click it and select your last data run.\n",
    "7. On the table, click the arrow next to the summation sign ($\\Sigma$) and make sure “Mean” and “Standard Deviation” are selected. Then click the summation sign ($\\Sigma$) itself.\n",
    "8. Read the standard deviation off the table at the bottom. This is your $\\delta x$.\n",
    "\n",
    "If your standard deviation is greater than 0.001 m (1.0 mm) then you should try to fine-tune the alignment of your sensor. It is very possible to get less than one millimeter uncertainty at the far end of the track. By looking at the\n",
    "displayed significant digits, your table also tells you what the uncertainty is for a single time measurement. Once you are done aligning your set-up, record your new worst (highest) position uncertainty (this will probably be at\n",
    "your far position) as well as your uncertainty in time, and the uncertainties for any differences the computer would calculate between two adjacent points."
   ]
  },
  {
   "cell_type": "code",
   "execution_count": 2,
   "metadata": {},
   "outputs": [
    {
     "name": "stdout",
     "output_type": "stream",
     "text": [
      "𝛿x = 0.001  𝛿t = 0.002\n",
      "\n",
      "𝛿(Δx) = 0.001  𝛿(Δt) = 0.003\n",
      "\n"
     ]
    }
   ],
   "source": [
    "# Raw Data 1\n",
    "\n",
    "import pandas as pd\n",
    "import numpy as np\n",
    "import ipywidgets as widgets\n",
    "\n",
    "#### Enter Raw Data Here!!!!!!!!!!!!!! ####\n",
    "\n",
    "uncertainty_x = 0.001\n",
    "uncertainty_t = 0.002\n",
    "\n",
    "uncertainty_Delta_x = 0.001\n",
    "uncertainty_Delta_t = 0.003\n",
    "\n",
    "###########################################\n",
    "\n",
    "print(\"𝛿x =\", uncertainty_x, \" 𝛿t =\", uncertainty_t)\n",
    "print(\"\")\n",
    "print(\"𝛿(Δx) =\", uncertainty_Delta_x, \" 𝛿(Δt) =\", uncertainty_Delta_t)\n",
    "print(\"\")"
   ]
  },
  {
   "cell_type": "markdown",
   "metadata": {},
   "source": [
    "What is the difference in time between two $successive$ data points? (You can either look at your table or recall the Sample Rate from above)."
   ]
  },
  {
   "cell_type": "code",
   "execution_count": 3,
   "metadata": {},
   "outputs": [
    {
     "name": "stdout",
     "output_type": "stream",
     "text": [
      "Δt = 0.005\n"
     ]
    }
   ],
   "source": [
    "# Raw Data 2\n",
    "\n",
    "#### Enter Raw Data Here!!!!!!!!!!!!!! ####\n",
    "\n",
    "Delta_t = 0.005\n",
    "\n",
    "###########################################\n",
    "\n",
    "print(\"Δt =\", Delta_t)"
   ]
  },
  {
   "cell_type": "markdown",
   "metadata": {},
   "source": [
    "### Unaccelerated Motion\n",
    "This first part of the experiment is to compare the position of the cart as a function of time with its velocity and verify equation $\\eqref{eq:v_avg}$:\n",
    "\n",
    "1. Start fresh: delete ALL data sets and close all data windows.\n",
    "2. Drag a “Graph” from the right tool palette to your data area. Select “Position (m)” for your y-axis.\n",
    "3. Turn on the air and remove the paper from under the cart.\n",
    "4. With your cart at the far end of the track, give it a good push towards the sensor.\n",
    "5. Immediately after the cart bounces off the near bumper, press “Record.”\n",
    "6. Immediately BEFORE the cart strikes the far bumper, press “Stop.”\n",
    "7. Turn off the air.\n",
    "8. Rename this run “Level Airtrack”.\n",
    "9. Right-click on one of the data points and, in the window that pops up, un-check “Show Connecting Lines.”\n",
    "10. Move the legend so that it does not cover any data points.\n",
    "11. Type an appropriate title for this graph and print it in Landscape mode. You will need to make the grid lines show up clearly in your graph. To do this, right click on the plot and select “Plot Area Properties.”\n",
    "12. Click on the “Position (m)” axis label and select “Velocity (m/s)” instead.\n",
    "13. Repeat steps 9—11.\n",
    "\n",
    "It is now up to you to draw the best-fit line for the Position vs. Time graph <u>by hand</u> and find its slope as well as draw the best-fit <u>***horizontal***</u> line for the Velocity vs. Time graph and find its height. Use the methods outlined in your Lab Manual for this."
   ]
  },
  {
   "cell_type": "code",
   "execution_count": null,
   "metadata": {},
   "outputs": [],
   "source": []
  },
  {
   "cell_type": "code",
   "execution_count": 4,
   "metadata": {},
   "outputs": [
    {
     "name": "stdout",
     "output_type": "stream",
     "text": [
      "\n",
      "Linear Fit: Coefficients (from curve_fit)\n",
      "[-0.82142861 80.32142849]\n",
      "Linear Fit: Covariance Matrix (from curve_fit)\n",
      "[[ 9.8395547  -2.27066937]\n",
      " [-2.27066937  0.75688984]]\n",
      "\n",
      "Linear Fit: Final Result: y = (80.32143 +/- 0.86999) x + (-0.82143 +/- 3.13681)\n",
      "\n"
     ]
    },
    {
     "data": {
      "image/png": "[encoded data removed]",
      "text/plain": [
       "<Figure size 700x500 with 1 Axes>"
      ]
     },
     "metadata": {},
     "output_type": "display_data"
    },
    {
     "name": "stdout",
     "output_type": "stream",
     "text": [
      "\n"
     ]
    }
   ],
   "source": [
    "# Position vs. Time Graph\n",
    "\n",
    "# Reads the name of the csv file and gets the data\n",
    "df = pd.read_csv(\"./Demo files/Position vs Time test.csv\")\n",
    "\n",
    "# Prints information about the file\n",
    "#df.info()\n",
    "\n",
    "print(\"\")\n",
    "\n",
    "# Defines the x and y values\n",
    "time = df.filter(['Time (s)'], axis=1).dropna()\n",
    "position = df.filter(['Position (m)'], axis=1).dropna()\n",
    "\n",
    "# Create a figure of reasonable size and resolution, white background, black edge color\n",
    "fig=plt.figure(figsize=(7,5), dpi= 100, facecolor='w', edgecolor='k')\n",
    "\n",
    "# Gets the data values for x and y\n",
    "x_data = time.values.reshape(-1, 1)\n",
    "y_data = position.values.reshape(-1, 1)\n",
    "\n",
    "xi = df['Time (s)'].to_numpy()\n",
    "yi = df['Position (m)'].to_numpy()\n",
    "\n",
    "# Creates the base plot with titles\n",
    "# df.plot(x='Time (s)', y='Position (m)', kind ='scatter')\n",
    "plt.plot(x_data,y_data,'b.',label='Raw Data')\n",
    "plt.ylabel('Position (m)')\n",
    "plt.xlabel('Time (s)')\n",
    "plt.title('Position vs. Time')\n",
    "\n",
    "# Takes the x and y values to make a trendline\n",
    "#intercept, slope = linear_fit_plot(x_data,y_data)\n",
    "intercept, slope, dintercept, dslope = linear_fit_plot_errors(xi,yi)\n",
    "\n",
    "# Adds the legend to the plot\n",
    "plt.legend()\n",
    "\n",
    "# Displays the plot\n",
    "plt.show()\n",
    "\n",
    "print(\"\")"
   ]
  },
  {
   "cell_type": "code",
   "execution_count": 5,
   "metadata": {},
   "outputs": [
    {
     "name": "stdout",
     "output_type": "stream",
     "text": [
      "\n",
      "Linear Fit: Coefficients (from curve_fit)\n",
      "[100. -10.]\n",
      "Linear Fit: Covariance Matrix (from curve_fit)\n",
      "[[ 0. -0.]\n",
      " [-0.  0.]]\n",
      "\n",
      "Linear Fit: Final Result: y = (-10.00000 +/- 0.00000) x + (100.00000 +/- 0.00000)\n",
      "\n"
     ]
    },
    {
     "data": {
      "image/png": "[encoded data removed]",
      "text/plain": [
       "<Figure size 700x500 with 1 Axes>"
      ]
     },
     "metadata": {},
     "output_type": "display_data"
    },
    {
     "name": "stdout",
     "output_type": "stream",
     "text": [
      "\n"
     ]
    }
   ],
   "source": [
    "# Velocity vs. Time Graph (unaccelerated)\n",
    "\n",
    "# Reads the name of the csv file and gets the data\n",
    "df = pd.read_csv(\"./Demo files/Unacc_Velocity  vs Time test.csv\")\n",
    "\n",
    "# Prints information about the file\n",
    "#df.info()\n",
    "\n",
    "print(\"\")\n",
    "\n",
    "# Defines the x and y values\n",
    "time = df.filter(['Time (s)'], axis=1).dropna()\n",
    "position = df.filter(['Velocity (m/s)'], axis=1).dropna()\n",
    "\n",
    "fig=plt.figure(figsize=(7,5), dpi= 100, facecolor='w', edgecolor='k')\n",
    "\n",
    "# Gets the data values for x and y\n",
    "x_data = time.values.reshape(-1, 1)\n",
    "y_data = position.values.reshape(-1, 1)\n",
    "xi = df['Time (s)'].to_numpy()\n",
    "yi = df['Velocity (m/s)'].to_numpy()\n",
    "\n",
    "# Creates the base plot with titles\n",
    "# df.plot(x='Time (s)', y='Position (m)', kind ='scatter')\n",
    "plt.plot(x_data,y_data,'b.',label='Raw Data')\n",
    "plt.ylabel('Velocity (m/s)')\n",
    "plt.xlabel('Time (s)')\n",
    "plt.title('Velocity vs. Time')\n",
    "\n",
    "# Takes the x and y values to make a trendline\n",
    "#intercept, slope = linear_fit_plot(x_data,y_data)\n",
    "intercept, slope, dintercept, dslope = linear_fit_plot_errors(xi,yi)\n",
    "\n",
    "# Adds the legend to the plot\n",
    "plt.legend()\n",
    "\n",
    "# Displays the plot\n",
    "plt.show()\n",
    "\n",
    "print(\"\")"
   ]
  },
  {
   "cell_type": "markdown",
   "metadata": {},
   "source": [
    "For the slope of your Position vs. Time graph (these values represent your uncertainty in <u>**reading**</u> the graph---i.e. how well can you locate a point on the graph “by eye?”):"
   ]
  },
  {
   "cell_type": "code",
   "execution_count": 6,
   "metadata": {},
   "outputs": [
    {
     "name": "stdout",
     "output_type": "stream",
     "text": [
      "𝛿x = 0.001  𝛿t = 0.002\n",
      "\n",
      "𝛿(Δx) = 0.001  𝛿(Δt) = 0.003\n"
     ]
    }
   ],
   "source": [
    "# Raw Data 3\n",
    "\n",
    "#### Enter Raw Data Here!!!!!!!!!!!!!! ####\n",
    "\n",
    "uncertainty_x = 0.001\n",
    "uncertainty_t = 0.002\n",
    "\n",
    "uncertainty_Delta_x = 0.001\n",
    "uncertainty_Delta_t = 0.003\n",
    "\n",
    "###########################################\n",
    "\n",
    "print(\"𝛿x =\", uncertainty_x, \" 𝛿t =\", uncertainty_t)\n",
    "print(\"\")\n",
    "print(\"𝛿(Δx) =\", uncertainty_Delta_x, \" 𝛿(Δt) =\", uncertainty_Delta_t)"
   ]
  },
  {
   "cell_type": "markdown",
   "metadata": {},
   "source": [
    "### Accelerated Motion\n",
    "Now that you’ve gotten some data to investigate unaccelerated motion, you need to collect data on accelerated motion. To do this, you will need to allow gravity to provide the acceleration by tilting the track.  \n",
    "\n",
    "1. Measure the distance between the supports on the airtrack. This will be your base length.\n",
    "2. Measure the thickness of a 2x4 “shim.” This will be your height change.\n",
    "3. Place the 2x4 “shim” under the foot nearest the acoustic sensor.\n",
    "4. You will need to re-align the acoustic sensor using the methods described earlier.\n",
    "5. Re-measure the uncertainty in position at the end of the track furthest from the sensor and try to reduce that uncertainty below 1 mm. Record this uncertainty in your Data Sheet.\n",
    "\n",
    "When you are ready to take data:\n",
    "\n",
    "1. Remove everything except one graph from the data area and make sure the y-axis is set to “Acceleration ($m / s^2$).”\n",
    "2. Turn on the air, remove the paper, and allow the cart to slide down the airtrack and bounce off the far bumper.\n",
    "3. **START** taking data ***immediately after*** the cart strikes the bumper.\n",
    "4. **STOP** taking data ***just before*** the cart strikes the bumper again.\n",
    "5. Turn off the air.\n",
    "6. Rename this data set as “Tilted Airtrack.”\n",
    "\n",
    "This time, let’s allow the Capstone software to analyze our data:\n",
    "\n",
    "1. Click the arrow beside the summation symbol ($\\Sigma$) and make sure that “Mean” and “Standard Deviation” are selected. Then click the summation symbol ($\\Sigma$).\n",
    "2. Move the legend so that it does not obscure the data points.\n",
    "3. Type in an appropriate title and print this graph in Landscape Mode.\n",
    "4. Click the summation symbol ($\\Sigma$) again to remove the fit.\n",
    "5. Click the axis button labeled “Acceleration ($m / s^2$)” and select “Velocity (m/s)”\n",
    "6. Click the arrow next to to the “Fit” button and select “Linear.” Then click the “Fit” button.\n",
    "7. Move the legend and linear fit windows so that they do not obscure the data points.\n",
    "8. Type in an appropriate title and print this graph in Landscape Mode.\n",
    "9. Click the “Fit” button to remove the fit.\n",
    "10. Click the axis button labeled “Velocity (m/s)” and select “Position (m).”\n",
    "11. Click the arrow next to to the “Fit” button, unselect “Linear” and select “Quadratic.” Then click the “Fit” button.\n",
    "12. Move the legend and quadratic fit windows so that they do not obscure the data points.\n",
    "13. Type in an appropriate title and print this graph in Landscape Mode.  \n"
   ]
  },
  {
   "cell_type": "code",
   "execution_count": 7,
   "metadata": {},
   "outputs": [
    {
     "name": "stdout",
     "output_type": "stream",
     "text": [
      "\n",
      "Section 1: Coefficients (from curve_fit)\n",
      "[0.39   0.0012]\n",
      "Section 1: Covariance Matrix (from curve_fit)\n",
      "[[ 6.40000051e-05 -4.26666755e-06]\n",
      " [-4.26666755e-06  4.26666792e-07]]\n",
      "\n",
      "Section 1: Final Result: y = (0.00120 +/- 0.00065) x + (0.39000 +/- 0.00800)\n",
      "\n",
      "Section 2: Coefficients (from curve_fit)\n",
      "[-0.01305872  0.00054338]\n",
      "Section 2: Covariance Matrix (from curve_fit)\n",
      "[[ 4.14883876e-03 -1.28574577e-04]\n",
      " [-1.28574577e-04  4.26214069e-06]]\n",
      "\n",
      "Section 2: Final Result: y = (0.00054 +/- 0.00206) x + (-0.01306 +/- 0.06441)\n",
      "\n",
      "Section 3: Coefficients (from curve_fit)\n",
      "[-0.85479508 -0.00352459]\n",
      "Section 3: Covariance Matrix (from curve_fit)\n",
      "[[ 1.85514856e-02 -4.31863000e-04]\n",
      " [-4.31863000e-04  1.00667366e-05]]\n",
      "\n",
      "Section 3: Final Result: y = (-0.00352 +/- 0.00317) x + (-0.85480 +/- 0.13620)\n",
      "\n"
     ]
    },
    {
     "data": {
      "image/png": "[encoded data removed]",
      "text/plain": [
       "<Figure size 700x500 with 1 Axes>"
      ]
     },
     "metadata": {},
     "output_type": "display_data"
    },
    {
     "name": "stdout",
     "output_type": "stream",
     "text": [
      "\n"
     ]
    }
   ],
   "source": [
    "# Acceleration vs Time Graph (Tilted Airtrack)\n",
    "\n",
    "# Reads the name of the csv file and gets the data\n",
    "df = pd.read_csv(\"./Demo files/Acceleration vs Time test.csv\")\n",
    "\n",
    "# Prints information about the file\n",
    "#df.info()\n",
    "\n",
    "print(\"\")\n",
    "\n",
    "# Defines the x and y values\n",
    "time = df.filter(['Time (s)'], axis=1).dropna()\n",
    "position = df.filter(['Acceleration (m/s^2)'], axis=1).dropna()\n",
    "\n",
    "fig=plt.figure(figsize=(7,5), dpi= 100, facecolor='w', edgecolor='k')\n",
    "\n",
    "# Gets the data values for x and y\n",
    "x_data = time.values.reshape(-1, 1)\n",
    "y_data = position.values.reshape(-1, 1)\n",
    "xi = df['Time (s)'].to_numpy()\n",
    "yi = df['Acceleration (m/s^2)'].to_numpy()\n",
    "\n",
    "# Creates the base plot with titles\n",
    "# df.plot(x='Time (s)', y='Position (m)', kind ='scatter')\n",
    "plt.plot(x_data,y_data,'b.',label='Raw Data')\n",
    "plt.ylabel('Acceleration (m/s^2)')\n",
    "plt.xlabel('Time (s)')\n",
    "plt.title('Acceleration vs. Time')\n",
    "\n",
    "# Takes the x and y values to make a trendline\n",
    "#intercept1, slope1 = linear_fit_plot(x_data,y_data,0.0,20.0)\n",
    "#intercept2, slope2 = linear_fit_plot(x_data,y_data,20.1,40.0)\n",
    "#intercept3, slope3 = linear_fit_plot(x_data,y_data,40.1,50.0)\n",
    "intercept1, slope1, dintercept1, dslope1 = linear_fit_plot_errors(xi,yi,\n",
    "                                                                  0.0,20.0,\"Section 1\",\"b-\")\n",
    "intercept2, slope2, dintercept2, dslope2 = linear_fit_plot_errors(xi,yi,\n",
    "                                                                  20.1,40.0,\"Section 2\",\"g-\")\n",
    "intercept3, slope3, dintercept3, dslope3 = linear_fit_plot_errors(xi,yi,\n",
    "                                                                  40.1,50.0,\"Section 3\",\"k-\")\n",
    "\n",
    "# Adds the legend to the plot\n",
    "plt.legend()\n",
    "\n",
    "# Displays the plot\n",
    "plt.show()\n",
    "\n",
    "print(\"\")"
   ]
  },
  {
   "cell_type": "code",
   "execution_count": 8,
   "metadata": {},
   "outputs": [
    {
     "name": "stdout",
     "output_type": "stream",
     "text": [
      "\n",
      "Linear Fit: Coefficients (from curve_fit)\n",
      "[-0.82142861 80.32142849]\n",
      "Linear Fit: Covariance Matrix (from curve_fit)\n",
      "[[ 9.8395547  -2.27066937]\n",
      " [-2.27066937  0.75688984]]\n",
      "\n",
      "Linear Fit: Final Result: y = (80.32143 +/- 0.86999) x + (-0.82143 +/- 3.13681)\n",
      "\n"
     ]
    },
    {
     "data": {
      "image/png": "[encoded data removed]",
      "text/plain": [
       "<Figure size 700x500 with 1 Axes>"
      ]
     },
     "metadata": {},
     "output_type": "display_data"
    },
    {
     "name": "stdout",
     "output_type": "stream",
     "text": [
      "\n"
     ]
    }
   ],
   "source": [
    "# Position vs. Time Graph (accelerated)\n",
    "\n",
    "# Reads the name of the csv file and gets the data\n",
    "df = pd.read_csv(\"./Demo files/Position vs Time test.csv\")\n",
    "\n",
    "# Prints information about the file\n",
    "#df.info()\n",
    "\n",
    "print(\"\")\n",
    "\n",
    "# Defines the x and y values\n",
    "time = df.filter(['Time (s)'], axis=1).dropna()\n",
    "position = df.filter(['Position (m)'], axis=1).dropna()\n",
    "\n",
    "# Create a figure of reasonable size and resolution, white background, black edge color\n",
    "fig=plt.figure(figsize=(7,5), dpi= 100, facecolor='w', edgecolor='k')\n",
    "\n",
    "# Gets the data values for x and y\n",
    "x_data = time.values.reshape(-1, 1)\n",
    "y_data = position.values.reshape(-1, 1)\n",
    "xi = df['Time (s)'].to_numpy()\n",
    "yi = df['Position (m)'].to_numpy()\n",
    "\n",
    "# Creates the base plot with titles\n",
    "# df.plot(x='Time (s)', y='Position (m)', kind ='scatter')\n",
    "plt.plot(x_data,y_data,'b.',label='Raw Data')\n",
    "plt.ylabel('Position (m)')\n",
    "plt.xlabel('Time (s)')\n",
    "plt.title('Position vs. Time')\n",
    "\n",
    "# Takes the x and y values to make a trendline\n",
    "#intercept, slope = linear_fit_plot(x_data,y_data)\n",
    "intercept, slope, dintercept, dslope = linear_fit_plot_errors(xi,yi,linestring='g-')\n",
    "\n",
    "# Adds the legend to the plot\n",
    "plt.legend()\n",
    "\n",
    "# Displays the plot\n",
    "plt.show()\n",
    "\n",
    "print(\"\")"
   ]
  },
  {
   "cell_type": "code",
   "execution_count": 9,
   "metadata": {},
   "outputs": [
    {
     "name": "stdout",
     "output_type": "stream",
     "text": [
      "\n",
      "Section 1: Coefficients (from curve_fit)\n",
      "[-5.12986701e-24  5.00000000e+00]\n",
      "Section 1: Covariance Matrix (from curve_fit)\n",
      "[[ 8.28303956e-30 -0.00000000e+00]\n",
      " [ 0.00000000e+00  5.91645679e-31]]\n",
      "\n",
      "Section 1: Final Result: y = (5.00000 +/- 0.00000) x + (-0.00000 +/- 0.00000)\n",
      "\n",
      "Section 2: Coefficients (from curve_fit)\n",
      "[15.2  -0.05]\n",
      "Section 2: Covariance Matrix (from curve_fit)\n",
      "[[ 0.12499995 -0.02999999]\n",
      " [-0.02999999  0.0075    ]]\n",
      "\n",
      "Section 2: Final Result: y = (-0.05000 +/- 0.08660) x + (15.20000 +/- 0.35355)\n",
      "\n",
      "Section 3: Coefficients (from curve_fit)\n",
      "[29.87619048 -2.98571429]\n",
      "Section 3: Covariance Matrix (from curve_fit)\n",
      "[[ 4.02494326e-03 -5.10204073e-04]\n",
      " [-5.10204073e-04  6.80272096e-05]]\n",
      "\n",
      "Section 3: Final Result: y = (-2.98571 +/- 0.00825) x + (29.87619 +/- 0.06344)\n",
      "\n"
     ]
    },
    {
     "data": {
      "image/png": "[encoded data removed]",
      "text/plain": [
       "<Figure size 700x500 with 1 Axes>"
      ]
     },
     "metadata": {},
     "output_type": "display_data"
    },
    {
     "name": "stdout",
     "output_type": "stream",
     "text": [
      "\n"
     ]
    }
   ],
   "source": [
    "# Velocity vs. Time Graph (Accelerated Motion)\n",
    "\n",
    "# Reads the name of the csv file and gets the data\n",
    "df = pd.read_csv(\"./Demo files/Velocity vs Time test.csv\")\n",
    "\n",
    "# Prints information about the file\n",
    "#df.info()\n",
    "\n",
    "print(\"\")\n",
    "\n",
    "# Defines the x and y values\n",
    "time = df.filter(['Time (s)'], axis=1).dropna()\n",
    "velocity = df.filter(['Velocity (m/s)'], axis=1).dropna()\n",
    "\n",
    "fig=plt.figure(figsize=(7,5), dpi= 100, facecolor='w', edgecolor='k')\n",
    "\n",
    "# Gets the data values for x and y\n",
    "x_data = time.values.reshape(-1, 1)\n",
    "y_data = velocity.values.reshape(-1, 1)\n",
    "xi = df['Time (s)'].to_numpy()\n",
    "yi = df['Velocity (m/s)'].to_numpy()\n",
    "\n",
    "# Creates the base plot with titles\n",
    "# df.plot(x='Time (s)', y='Position (m)', kind ='scatter')\n",
    "plt.plot(x_data,y_data,'b.',label='Raw Data')\n",
    "plt.ylabel('Velocity (m/s)')\n",
    "plt.xlabel('Time (s)')\n",
    "plt.title('Velocity vs. Time')\n",
    "\n",
    "# Takes the x and y values to make a trendline\n",
    "#intercept1, slope1 = linear_fit_plot(x_data,y_data,0.0,3.0)\n",
    "#intercept2, slope2 = linear_fit_plot(x_data,y_data,3.0,5.0)\n",
    "#intercept3, slope3 = linear_fit_plot(x_data,y_data,5.0,10.0)\n",
    "intercept1, slope1, dintercept1, dslope1 = linear_fit_plot_errors(xi,yi,\n",
    "                                                                  0.0,3.0,\"Section 1\",'b-')\n",
    "intercept2, slope2, dintercept2, dslope2 = linear_fit_plot_errors(xi,yi,\n",
    "                                                                  3.0,5.0,\"Section 2\",'g-')\n",
    "intercept3, slope3, dintercept3, dslope3 = linear_fit_plot_errors(xi,yi,\n",
    "                                                                  5.0,10.0,\"Section 3\",'k-')\n",
    "\n",
    "\n",
    "#Adds the legend to the plot\n",
    "plt.legend()\n",
    "\n",
    "# Displays the plot\n",
    "plt.show()\n",
    "\n",
    "print(\"\")"
   ]
  },
  {
   "cell_type": "code",
   "execution_count": 10,
   "metadata": {},
   "outputs": [
    {
     "name": "stdout",
     "output_type": "stream",
     "text": [
      "d = 25.0  𝛿d = 0.002\n",
      "\n",
      "h = 1.0  𝛿h = 0.003\n",
      "\n",
      "𝛿x = 0.005\n",
      "\n",
      "θ = 25.0\n"
     ]
    }
   ],
   "source": [
    "# Raw Data 4\n",
    "\n",
    "#### Enter Raw Data Here!!!!!!!!!!!!!! ####\n",
    "\n",
    "# The distance between the two supports and the uncertainty in that distance\n",
    "d = 25.0\n",
    "uncertainty_d = 0.002\n",
    "\n",
    "# The thickness of the 2x4 and the uncertainty in that thickness\n",
    "h = 1.0\n",
    "uncertainty_h = 0.003\n",
    "\n",
    "# Your new uncertainty in cart position\n",
    "uncertainty_x = 0.005\n",
    "\n",
    "# The angle your track was tilted\n",
    "theta = 25.0\n",
    "\n",
    "###########################################\n",
    "\n",
    "print(\"d =\", d, \" 𝛿d =\", uncertainty_d)\n",
    "print(\"\")\n",
    "print(\"h =\", h, \" 𝛿h =\", uncertainty_h)\n",
    "print(\"\")\n",
    "print(\"𝛿x =\", uncertainty_x)\n",
    "print(\"\")\n",
    "print(\"θ =\", theta)"
   ]
  },
  {
   "cell_type": "markdown",
   "metadata": {},
   "source": [
    "<u>***Print out all six graphs.***</u>"
   ]
  },
  {
   "cell_type": "markdown",
   "metadata": {},
   "source": [
    "# Your Lab Report\n",
    "\n",
    "## EXPERIMENTAL PROCEDURE Section\n",
    "You will need to write a few paragraphs to carefully describe how you set up your experiment. Include the following specific items:\n",
    "- What did you do to ensure that your zero-acceleration and constant-acceleration experiments were free from unwanted sources of acceleration?\n",
    "- How did you configure your measurement equipment so that you got the most accuracy?\n",
    "- How did you compute the best-line fits and slopes for your ***x*** **vs.** ***t*** and ***v*** **vs.** ***t*** graphs?\n",
    "- How did you set the track and determine the angle for the constant-acceleration experiment?\n",
    "- How did you re-calibrate your measurement equipment after changing experiments?\n",
    "\n",
    "**Remember:** This section is a description of what <u>you</u> did---not a set of instructions. Include a description of any problems you encountered and how you solved them."
   ]
  },
  {
   "cell_type": "markdown",
   "metadata": {},
   "source": [
    "## Data\n",
    "Report the following data (with units and uncertainties):\n",
    "\n",
    "- Velocity of cart without acceleration\n",
    "- Angle that you tilted the airtrack\n",
    "- Average Acceleration from the Acceleration vs. Time graph\n",
    "- Average Acceleration calculated form the slope of the Velocity vs. Time graph\n",
    "- Average Acceleration computed from the parabolic fit to your Position vs. Time graph\n",
    "\n",
    "Include <u>all six</u> of your graphs in order: Sawtooth, two unaccelerated motion graphs, and three accelerated motion graphs."
   ]
  },
  {
   "cell_type": "markdown",
   "metadata": {},
   "source": [
    "## Results and Conclusions\n",
    "<u>**Unaccelerated Motion Experiment**</u>  \n",
    "- Why does the time between peaks in the saw-tooth pattern increase? Will this affect your results?\n",
    "- Compare the slope of the Position vs. Time graph to the average value of the velocities in the velocity vs. time graph. Use the % difference formula and cite your uncertainties. Do the two numbers overlap if you include your uncertainties?\n",
    "- Using equation $\\eqref{eq:v_unc}$, compute the uncertainty in the speed of the cart at the speed you measured."
   ]
  },
  {
   "cell_type": "markdown",
   "metadata": {},
   "source": [
    "<u>**Accelerated Motion Experiment**</u>  \n",
    "Create the following table in your report and fill in the entries:"
   ]
  },
  {
   "cell_type": "code",
   "execution_count": 11,
   "metadata": {},
   "outputs": [
    {
     "data": {
      "text/html": [
       "<div>\n",
       "<style scoped>\n",
       "    .dataframe tbody tr th:only-of-type {\n",
       "        vertical-align: middle;\n",
       "    }\n",
       "\n",
       "    .dataframe tbody tr th {\n",
       "        vertical-align: top;\n",
       "    }\n",
       "\n",
       "    .dataframe thead th {\n",
       "        text-align: right;\n",
       "    }\n",
       "</style>\n",
       "<table border=\"1\" class=\"dataframe\">\n",
       "  <thead>\n",
       "    <tr style=\"text-align: right;\">\n",
       "      <th></th>\n",
       "      <th></th>\n",
       "      <th>Average Acceleration from Acceleration vs. Time graph</th>\n",
       "      <th>Acceleration Calculated from Slope of Velocity vs. Time Graph</th>\n",
       "      <th>Acceleration Computed from Parabolic Fit of Position vs. Time Graph</th>\n",
       "      <th>The value of (g sin θ )</th>\n",
       "    </tr>\n",
       "  </thead>\n",
       "  <tbody>\n",
       "    <tr>\n",
       "      <th>0</th>\n",
       "      <td>Av. Acceleration from a vs. t graph</td>\n",
       "      <td>N/A</td>\n",
       "      <td>0</td>\n",
       "      <td>0</td>\n",
       "      <td>0</td>\n",
       "    </tr>\n",
       "    <tr>\n",
       "      <th>1</th>\n",
       "      <td>Acceleration from Slope of v vs. t Graph</td>\n",
       "      <td>0</td>\n",
       "      <td>N/A</td>\n",
       "      <td>0</td>\n",
       "      <td>0</td>\n",
       "    </tr>\n",
       "    <tr>\n",
       "      <th>2</th>\n",
       "      <td>Accelerationfrom Parabolic Fit of m vs. t Graph.</td>\n",
       "      <td>0</td>\n",
       "      <td>0</td>\n",
       "      <td>N/A</td>\n",
       "      <td>0</td>\n",
       "    </tr>\n",
       "    <tr>\n",
       "      <th>3</th>\n",
       "      <td>The value of (g sin θ )</td>\n",
       "      <td>0</td>\n",
       "      <td>0</td>\n",
       "      <td>0</td>\n",
       "      <td>N/A</td>\n",
       "    </tr>\n",
       "  </tbody>\n",
       "</table>\n",
       "</div>"
      ],
      "text/plain": [
       "                                                     \\\n",
       "0               Av. Acceleration from a vs. t graph   \n",
       "1          Acceleration from Slope of v vs. t Graph   \n",
       "2  Accelerationfrom Parabolic Fit of m vs. t Graph.   \n",
       "3                           The value of (g sin θ )   \n",
       "\n",
       "  Average Acceleration from Acceleration vs. Time graph  \\\n",
       "0                                                N/A      \n",
       "1                                                  0      \n",
       "2                                                  0      \n",
       "3                                                  0      \n",
       "\n",
       "  Acceleration Calculated from Slope of Velocity vs. Time Graph  \\\n",
       "0                                                  0              \n",
       "1                                                N/A              \n",
       "2                                                  0              \n",
       "3                                                  0              \n",
       "\n",
       "  Acceleration Computed from Parabolic Fit of Position vs. Time Graph  \\\n",
       "0                                                  0                    \n",
       "1                                                  0                    \n",
       "2                                                N/A                    \n",
       "3                                                  0                    \n",
       "\n",
       "  The value of (g sin θ )  \n",
       "0                       0  \n",
       "1                       0  \n",
       "2                       0  \n",
       "3                     N/A  "
      ]
     },
     "metadata": {},
     "output_type": "display_data"
    },
    {
     "name": "stdout",
     "output_type": "stream",
     "text": [
      "Table 1: Percent Differences Between Different Methods of Computing Acceleration\n",
      "\n"
     ]
    }
   ],
   "source": [
    "# Table 1: Percent Differences Between Different Methods of Computing Acceleration\n",
    "\n",
    "# Create an empty numpy array to hold the raw data\n",
    "raw_data_1 = np.empty((4,5), dtype = object)\n",
    "\n",
    "# Set the column identifiers\n",
    "raw_data_1[0][0]= 1\n",
    "raw_data_1[1][0]= 2\n",
    "raw_data_1[2][0]= 3\n",
    "raw_data_1[3][0]= 4\n",
    "\n",
    "# Create a Pandas dataframe, and convert the cylinder number column to integer format\n",
    "df1 = pd.DataFrame(raw_data_1, columns=[\" \", \n",
    "                                        \"Average Acceleration from Acceleration vs. Time graph\",\n",
    "                                        \"Acceleration Calculated from Slope of Velocity vs. Time Graph\",\n",
    "                                        \"Acceleration Computed from Parabolic Fit of Position vs. Time Graph\",\n",
    "                                       \"The value of (g sin θ )\"])\n",
    "\n",
    "\n",
    "df1[' '] = ['Av. Acceleration from a vs. t graph', \n",
    "                   'Acceleration from Slope of v vs. t Graph',\n",
    "                   'Accelerationfrom Parabolic Fit of m vs. t Graph.', \n",
    "                   'The value of (g sin θ )']\n",
    "\n",
    "\n",
    "#### Enter Raw Data Here!!!!!!!!!!!!!! ####\n",
    "\n",
    "# Replace the 0's with your percent differences for the table \n",
    "df1['Average Acceleration from Acceleration vs. Time graph'] = ['N/A',0,0, 0]\n",
    "\n",
    "df1['Acceleration Calculated from Slope of Velocity vs. Time Graph'] = [0,'N/A',0, 0]\n",
    "\n",
    "df1['Acceleration Computed from Parabolic Fit of Position vs. Time Graph'] = [0,0,'N/A', 0]\n",
    "\n",
    "df1['The value of (g sin θ )'] = [0,0,0, 'N/A']\n",
    "\n",
    "###########################################\n",
    "\n",
    "display(df1)\n",
    "print (\"Table 1: Percent Differences Between Different Methods of Computing Acceleration\")\n",
    "print(\"\")"
   ]
  },
  {
   "cell_type": "markdown",
   "metadata": {},
   "source": [
    "To compare the “A” value to the acceleration, you will need to know that the A, B, and C values are the constants for the following fit to the data:  \n",
    "\n",
    "\\begin{equation}\n",
    "x(t) = At^2 + Bt + C \\nonumber\n",
    "\\end{equation}\n",
    "\n",
    "Compare this equation to equation $\\eqref{eq:x_of_t}$ to determine the acceleration, *a*."
   ]
  },
  {
   "cell_type": "markdown",
   "metadata": {},
   "source": [
    "<u>**Errors/Uncertainties**</u>  \n",
    "Did you have any systematic errors (i.e. were there sources of acceleration in either experiment that you could not remove)?  \n",
    "\n",
    "How could you reduce your errors/uncertainties?"
   ]
  },
  {
   "cell_type": "markdown",
   "metadata": {},
   "source": [
    "## Appendix\n",
    "- Include your signed raw data sheet\n",
    "- Include sample calculations for your best-line fit and slope for your unaccelerated motion graphs as well as the angle your track was set to for the accelerated motion."
   ]
  },
  {
   "cell_type": "code",
   "execution_count": null,
   "metadata": {},
   "outputs": [],
   "source": []
  }
 ],
 "metadata": {
  "kernelspec": {
   "display_name": "Python 3",
   "language": "python",
   "name": "python3"
  },
  "language_info": {
   "codemirror_mode": {
    "name": "ipython",
    "version": 3
   },
   "file_extension": ".py",
   "mimetype": "text/x-python",
   "name": "python",
   "nbconvert_exporter": "python",
   "pygments_lexer": "ipython3",
   "version": "3.6.8"
  },
  "latex_envs": {
   "LaTeX_envs_menu_present": true,
   "autoclose": false,
   "autocomplete": false,
   "bibliofile": "biblio.bib",
   "cite_by": "apalike",
   "current_citInitial": 1,
   "eqLabelWithNumbers": true,
   "eqNumInitial": 1,
   "hotkeys": {
    "equation": "Ctrl-E",
    "itemize": "Ctrl-I"
   },
   "labels_anchors": false,
   "latex_user_defs": false,
   "report_style_numbering": false,
   "user_envs_cfg": false
  },
  "toc-autonumbering": false
 },
 "nbformat": 4,
 "nbformat_minor": 4
}
