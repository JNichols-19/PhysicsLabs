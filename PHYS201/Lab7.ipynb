{
 "cells": [
  {
   "cell_type": "markdown",
   "id": "e0f105c8",
   "metadata": {},
   "source": [
    "# Lab 6: Moment of Inertia\n",
    "### Objectives\n",
    "- To learn to take good measurements\n",
    "- To learn how to estimate and propagate errors\n",
    "- To learn how to take measurements to verify a theory\n",
    "- To learn how torque is related to angular acceleration\n",
    "- To learn how moment of inertia depends on both mass and distribution.\n",
    "\n",
    "### Equipment\n",
    "- One Assembled Angular Acceleration Station\n",
    "    - One “A” frame base\n",
    "    - One 1-m steel rod\n",
    "    - One CI-6538 Rotary Motion Sensor\n",
    "    - One “Super Pulley”\n",
    "- One PASCO “Mass and Hanger Set” (ME-8979)\n",
    "- One 2-m length of thread\n",
    "- One “Hoop and Disk” assembly\n",
    "- One “Point Mass” assembly\n",
    "    - One mounting rod with captured screw\n",
    "    - Two cylindrical masses with nylon thumbscrews\n",
    "- One meter stick\n",
    "- One measurement caliper\n",
    "- One OHAUS scale\n",
    "\n",
    "### Safety\n",
    "You will be rotating fairly heavy masses to somewhat high rotational velocities. Above all else,\n",
    "you should ensure that all masses are **securely attached** to the rotor and you should be aware of\n",
    "where your hands and head are with respect to the apparatus at all times. <u>Avoid high speeds---\n",
    "they are not necessary</u>.\n",
    "\n",
    "<u>**Be extremely careful with the plastic pulley**</u>. It will break if you mistreat it. Not only will\n",
    "points be deducted from your lab, but you will be unable to complete the experiment if you break\n",
    "it."
   ]
  },
  {
   "cell_type": "markdown",
   "id": "a34af559",
   "metadata": {},
   "source": [
    "# Introduction\n",
    "Newton’s second law, $a=F/m$, describes mass as that which resists acceleration. Rotational\n",
    "motion is very similar to linear motion in that a kind of force called a torque will cause an object to change its rotational velocity, $\\omega$. What resists such a change is not the mass of the object alone, but the way in which that mass is distributed. This combined effect of mass and its distribution is called the moment of inertia, *I*."
   ]
  },
  {
   "cell_type": "markdown",
   "id": "a9b94bc4",
   "metadata": {},
   "source": [
    "# Theory\n",
    "### Torque\n",
    "Torque is the “force” which causes an object to change the rate at which it is rotating. Examples of this kind of motion are: starting, stopping, or changing the “speed” with which a wheel is rotating; bending your arm at the elbow or leg at the knee; or even screwing (or unscrewing) a bolt or screw-top lid.\n",
    "\n",
    "If you try to remove a securely fastened bolt, you quickly find that it is much easier to use a\n",
    "wrench than it is trying to use your hand alone. The force you can apply to the bolt is, itself, not enough to cause the bolt to turn. But the force you can *apply* times a distance away from the\n",
    "center of rotation (often called the “lever arm”) is directly related to the magnitude of the torque you can generate (i.e. how effective you will be at getting the bolt to turn).\n",
    "\n",
    "Although it seems obvious, it must be mentioned that not all forces are equally effective at generating torques. If you push or pull the wrench towards or away from the bolt, this will not cause the bolt to turn and you will generate no torque. Only the component of the force which is perpendicular to the lever arm has any effect.\n",
    "\n",
    "We roll all three of these concepts into the equation\n",
    "\n",
    "\\begin{equation}\n",
    "\\Gamma = r F \\sin \\theta \\quad \\textrm{or} \\quad \\vec{\\Gamma} = \\vec{r} \\times \\vec{F}\n",
    "\\tag{1}\n",
    "\\end{equation}  \n",
    "\n",
    "Where $\\Gamma$ is the torque, $r$ is the distance from the point where the force is applied to the center of the axis of rotation, and $\\theta$ is the angle between the two vectors $\\vec{r}$ and $\\vec{F}$."
   ]
  },
  {
   "cell_type": "markdown",
   "id": "c71686ba",
   "metadata": {},
   "source": [
    "### The Equation of Motion\n",
    "For linear motion, a simple re-arrangement of Newton’s Second Law states:\n",
    "\n",
    "\\begin{equation}\n",
    "\\vec{F} = m \\vec{a}\n",
    "\\tag{2}\n",
    "\\end{equation}\n",
    "\n",
    "where $a$ is the acceleration of the object (in $m/s^2$), F is the force applied to the object (in Newtons), and $m$ is the mass of the object (in kg).\n",
    "\n",
    "We can write a similar relationship for rotation:\n",
    "\n",
    "\\begin{equation}\n",
    "\\vec{\\Gamma} = I \\vec{\\alpha}\n",
    "\\tag{3}\n",
    "\\end{equation}\n",
    "\n",
    "where $\\alpha$ is the *angular* acceleration of the object (in $rad/s^2$), $\\Gamma$ is the *torque* applied to the object (in Nm), and $I$ is the *moment of inertia* of the object (in $kg m^2$).\n",
    "\n",
    "Using equation ([3](#mjx-eqn)), we should be able to determine an unknown moment of inertia if we know both the torque applied and if we can measure the resulting angular acceleration."
   ]
  },
  {
   "cell_type": "markdown",
   "id": "dd6c14ac",
   "metadata": {},
   "source": [
    "### The Moment of Inertia of a Point Mass\n",
    "It is not just the mass of an object that makes it difficult to rotate, but also the distribution of that mass. If the mass is close to the axis of rotation, it will be easier to rotate than if the mass is mostly far away from the axis. For a single point of mass m which is a distance r away from the axis of rotation, the moment of inertia of this point mass around this axis is given by\n",
    "\n",
    "\\begin{equation}\n",
    "I = m r^2\n",
    "\\tag{4}\n",
    "\\end{equation}\n",
    "\n",
    "For more complicated mass distributions, we can add up all the moments of inertia of all the points."
   ]
  },
  {
   "cell_type": "markdown",
   "id": "d746ad38",
   "metadata": {},
   "source": [
    "### Data Analysis\n",
    "The Rotary Motion Sensor will provide you with three data sets: Angle vs. Time, Angular Velocity vs. Time, and Angular Acceleration vs. Time. The initial data set is the Angle vs. Time data set. The others are computed by taking numerical derivatives. Even though you might think it is better to take the angular acceleration data when you want it, this may not be the case. When you take your measurement, you should look carefully at each data set. The “noisier” the data, the worse your uncertainties will be. But if the angular acceleration data is not the proper data set to use, how do you get angular acceleration from the other data sets? You must fit your “good” data and use your knowledge of kinematics to extract the acceleration (and its uncertainty) from the fit."
   ]
  },
  {
   "cell_type": "markdown",
   "id": "e714c625",
   "metadata": {},
   "source": [
    "### Error Analysis\n",
    "Your Lab Manual and the previous labs can guide you in estimating the errors in your\n",
    "measurements and propagating those errors into your computed moments of inertia. <u>***You may\n",
    "not use the naïve method for computing your uncertainties in this lab***</u>. The uncertainties in\n",
    "your accelerations can come from the quadratic fit to your data. In some cases, it might be easier\n",
    "to use the standard deviation of a **large** (i.e. greater than five) number of measurements as your\n",
    "measurement uncertainty.\n",
    "\n",
    "In order to minimize random errors, it is extremely important that each of your measurements be\n",
    "performed a few times."
   ]
  },
  {
   "cell_type": "markdown",
   "id": "5440b8a2",
   "metadata": {},
   "source": []
  }
 ],
 "metadata": {
  "kernelspec": {
   "display_name": "Python 3",
   "language": "python",
   "name": "python3"
  },
  "language_info": {
   "codemirror_mode": {
    "name": "ipython",
    "version": 3
   },
   "file_extension": ".py",
   "mimetype": "text/x-python",
   "name": "python",
   "nbconvert_exporter": "python",
   "pygments_lexer": "ipython3",
   "version": "3.6.8"
  }
 },
 "nbformat": 4,
 "nbformat_minor": 5
}
