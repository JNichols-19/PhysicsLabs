{
 "cells": [
  {
   "cell_type": "markdown",
   "id": "e078497d",
   "metadata": {},
   "source": [
    "# Lab 6: Moment of Inertia\n",
    "### Objectives\n",
    "- To learn to take good measurements\n",
    "- To learn how to estimate and propagate errors\n",
    "- To learn how to take measurements to verify a theory\n",
    "- To learn how torque is related to angular acceleration\n",
    "- To learn how moment of inertia depends on both mass and distribution.\n",
    "\n",
    "### Equipment\n",
    "- One Assembled Angular Acceleration Station\n",
    "    - One “A” frame base\n",
    "    - One 1-m steel rod\n",
    "    - One CI-6538 Rotary Motion Sensor\n",
    "    - One “Super Pulley”\n",
    "- One PASCO “Mass and Hanger Set” (ME-8979)\n",
    "- One 2-m length of thread\n",
    "- One “Hoop and Disk” assembly\n",
    "- One “Point Mass” assembly\n",
    "    - One mounting rod with captured screw\n",
    "    - Two cylindrical masses with nylon thumbscrews\n",
    "- One meter stick\n",
    "- One measurement caliper\n",
    "- One OHAUS scale\n",
    "\n",
    "### Safety\n",
    "You will be rotating fairly heavy masses to somewhat high rotational velocities. Above all else,\n",
    "you should ensure that all masses are **securely attached** to the rotor and you should be aware of\n",
    "where your hands and head are with respect to the apparatus at all times. <u>Avoid high speeds---\n",
    "they are not necessary</u>.\n",
    "\n",
    "<u>**Be extremely careful with the plastic pulley**</u>. It will break if you mistreat it. Not only will\n",
    "points be deducted from your lab, but you will be unable to complete the experiment if you break\n",
    "it."
   ]
  },
  {
   "cell_type": "markdown",
   "id": "bde58bcb",
   "metadata": {},
   "source": []
  }
 ],
 "metadata": {
  "kernelspec": {
   "display_name": "Python 3",
   "language": "python",
   "name": "python3"
  },
  "language_info": {
   "codemirror_mode": {
    "name": "ipython",
    "version": 3
   },
   "file_extension": ".py",
   "mimetype": "text/x-python",
   "name": "python",
   "nbconvert_exporter": "python",
   "pygments_lexer": "ipython3",
   "version": "3.6.8"
  }
 },
 "nbformat": 4,
 "nbformat_minor": 5
}
