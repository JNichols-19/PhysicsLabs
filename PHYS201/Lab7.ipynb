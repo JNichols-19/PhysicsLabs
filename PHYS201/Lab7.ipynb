{
 "cells": [
  {
   "cell_type": "markdown",
   "id": "db54247d",
   "metadata": {},
   "source": [
    "# Lab 6: Moment of Inertia\n",
    "### Objectives\n",
    "- To learn to take good measurements\n",
    "- To learn how to estimate and propagate errors\n",
    "- To learn how to take measurements to verify a theory\n",
    "- To learn how torque is related to angular acceleration\n",
    "- To learn how moment of inertia depends on both mass and distribution.\n",
    "\n",
    "### Equipment\n",
    "- One Assembled Angular Acceleration Station\n",
    "    - One “A” frame base\n",
    "    - One 1-m steel rod\n",
    "    - One CI-6538 Rotary Motion Sensor\n",
    "    - One “Super Pulley”\n",
    "- One PASCO “Mass and Hanger Set” (ME-8979)\n",
    "- One 2-m length of thread\n",
    "- One “Hoop and Disk” assembly\n",
    "- One “Point Mass” assembly\n",
    "    - One mounting rod with captured screw\n",
    "    - Two cylindrical masses with nylon thumbscrews\n",
    "- One meter stick\n",
    "- One measurement caliper\n",
    "- One OHAUS scale\n",
    "\n",
    "### Safety\n",
    "You will be rotating fairly heavy masses to somewhat high rotational velocities. Above all else,\n",
    "you should ensure that all masses are **securely attached** to the rotor and you should be aware of\n",
    "where your hands and head are with respect to the apparatus at all times. <u>Avoid high speeds---\n",
    "they are not necessary</u>.\n",
    "\n",
    "<u>**Be extremely careful with the plastic pulley**</u>. It will break if you mistreat it. Not only will\n",
    "points be deducted from your lab, but you will be unable to complete the experiment if you break\n",
    "it."
   ]
  },
  {
   "cell_type": "markdown",
   "id": "d08d0b43",
   "metadata": {},
   "source": [
    "# Introduction\n",
    "Newton’s second law, $a=F/m$, describes mass as that which resists acceleration. Rotational\n",
    "motion is very similar to linear motion in that a kind of force called a torque will cause an object to change its rotational velocity, $\\omega$. What resists such a change is not the mass of the object alone, but the way in which that mass is distributed. This combined effect of mass and its distribution is called the moment of inertia, *I*."
   ]
  },
  {
   "cell_type": "markdown",
   "id": "3a54c569",
   "metadata": {},
   "source": [
    "# Theory\n",
    "### Torque\n",
    "Torque is the “force” which causes an object to change the rate at which it is rotating. Examples of this kind of motion are: starting, stopping, or changing the “speed” with which a wheel is rotating; bending your arm at the elbow or leg at the knee; or even screwing (or unscrewing) a bolt or screw-top lid.\n",
    "\n",
    "If you try to remove a securely fastened bolt, you quickly find that it is much easier to use a\n",
    "wrench than it is trying to use your hand alone. The force you can apply to the bolt is, itself, not enough to cause the bolt to turn. But the force you can *apply* times a distance away from the\n",
    "center of rotation (often called the “lever arm”) is directly related to the magnitude of the torque you can generate (i.e. how effective you will be at getting the bolt to turn).\n",
    "\n",
    "Although it seems obvious, it must be mentioned that not all forces are equally effective at generating torques. If you push or pull the wrench towards or away from the bolt, this will not cause the bolt to turn and you will generate no torque. Only the component of the force which is perpendicular to the lever arm has any effect.\n",
    "\n",
    "We roll all three of these concepts into the equation\n",
    "\n",
    "\\begin{equation}\n",
    "\\Gamma = r F \\sin \\theta \\quad \\textrm{or} \\quad \\vec{\\Gamma} = \\vec{r} \\times \\vec{F}\n",
    "\\tag{1}\n",
    "\\end{equation}  \n",
    "\n",
    "Where $\\Gamma$ is the torque, $r$ is the distance from the point where the force is applied to the center of the axis of rotation, and $\\theta$ is the angle between the two vectors $\\vec{r}$ and $\\vec{F}$."
   ]
  },
  {
   "cell_type": "markdown",
   "id": "9330562b",
   "metadata": {},
   "source": [
    "### The Equation of Motion\n",
    "For linear motion, a simple re-arrangement of Newton’s Second Law states:\n",
    "\n",
    "\\begin{equation}\n",
    "\\vec{F} = m \\vec{a}\n",
    "\\tag{2}\n",
    "\\end{equation}\n",
    "\n",
    "where $a$ is the acceleration of the object (in $m/s^2$), F is the force applied to the object (in Newtons), and $m$ is the mass of the object (in kg).\n",
    "\n",
    "We can write a similar relationship for rotation:\n",
    "\n",
    "\\begin{equation}\n",
    "\\vec{\\Gamma} = I \\vec{\\alpha}\n",
    "\\tag{3}\n",
    "\\end{equation}\n",
    "\n",
    "where $\\alpha$ is the *angular* acceleration of the object (in $rad/s^2$), $\\Gamma$ is the *torque* applied to the object (in Nm), and $I$ is the *moment of inertia* of the object (in $kg m^2$).\n",
    "\n",
    "Using equation ([3](#mjx-eqn)), we should be able to determine an unknown moment of inertia if we know both the torque applied and if we can measure the resulting angular acceleration."
   ]
  },
  {
   "cell_type": "markdown",
   "id": "fecb1175",
   "metadata": {},
   "source": [
    "### The Moment of Inertia of a Point Mass\n",
    "It is not just the mass of an object that makes it difficult to rotate, but also the distribution of that mass. If the mass is close to the axis of rotation, it will be easier to rotate than if the mass is mostly far away from the axis. For a single point of mass m which is a distance r away from the axis of rotation, the moment of inertia of this point mass around this axis is given by\n",
    "\n",
    "\\begin{equation}\n",
    "I = m r^2\n",
    "\\tag{4}\n",
    "\\end{equation}\n",
    "\n",
    "For more complicated mass distributions, we can add up all the moments of inertia of all the points."
   ]
  },
  {
   "cell_type": "markdown",
   "id": "738cd7d7",
   "metadata": {},
   "source": [
    "### Data Analysis\n",
    "The Rotary Motion Sensor will provide you with three data sets: Angle vs. Time, Angular Velocity vs. Time, and Angular Acceleration vs. Time. The initial data set is the Angle vs. Time data set. The others are computed by taking numerical derivatives. Even though you might think it is better to take the angular acceleration data when you want it, this may not be the case. When you take your measurement, you should look carefully at each data set. The “noisier” the data, the worse your uncertainties will be. But if the angular acceleration data is not the proper data set to use, how do you get angular acceleration from the other data sets? You must fit your “good” data and use your knowledge of kinematics to extract the acceleration (and its uncertainty) from the fit."
   ]
  },
  {
   "cell_type": "markdown",
   "id": "2fbd1b8a",
   "metadata": {},
   "source": [
    "### Error Analysis\n",
    "Your Lab Manual and the previous labs can guide you in estimating the errors in your\n",
    "measurements and propagating those errors into your computed moments of inertia. <u>***You may\n",
    "not use the naïve method for computing your uncertainties in this lab***</u>. The uncertainties in\n",
    "your accelerations can come from the quadratic fit to your data. In some cases, it might be easier\n",
    "to use the standard deviation of a **large** (i.e. greater than five) number of measurements as your\n",
    "measurement uncertainty.\n",
    "\n",
    "In order to minimize random errors, it is extremely important that each of your measurements be\n",
    "performed a few times."
   ]
  },
  {
   "cell_type": "markdown",
   "id": "9e4bc848",
   "metadata": {},
   "source": [
    "# Experimental Procedure\n",
    "\n",
    "### Torque vs. Angular Acceleration\n",
    "The first part of this experiment is to verify that angular acceleration is directly proportional to torque. The result of this experiment will be a graph of Torque vs. Angular Acceleration. The PASCO Capstone Data Acquisition system will measure the acceleration of the hoop and disk system, but to create a known torque, you will apply a known force at a known distance from the axis of rotation. You have a set of weights and hangers at your disposal."
   ]
  },
  {
   "cell_type": "markdown",
   "id": "9ade44fd",
   "metadata": {},
   "source": [
    "### Setting up the Experiment--Hardware\n",
    "On top of your Rotary Motion Sensor is a three-stage pulley. You will need to remove this pulley to measure the diameter of each of the stages. Remove any other equipment atop the three-stage pulley by unscrewing the center screw and gently lifting it off the three-stage pulley. The pulley should now slide off the axle. Measure the mass and diameters of the three-stage pulley as well as the masses and dimensions of the ring and disk.\n",
    "\n",
    "Once you have completed your measurements, you will need to replace the three-stage pulley on the axle. Make sure that the pulley is oriented so that the largest diameter stage is at the bottom of the “stack.” **N.B.:** Please note that the axle has a groove cut into it and the three-stage pulley has a key-way. <u>Ensure that the keyway of the pulley slides into the groove in the axle when you replace the three-stage pulley</u>.\n",
    "\n",
    "Once the three-stage pulley is oriented properly, place the disk atop it so that the square cut-out locks onto the square shaft on the top of the three-stage pulley. Secure the disk with the knurled screw (This screw may be stored on the bottom of the axle). You may now place the ring on top of the disk so that the two posts in the ring sit in the two holes in the disk (this “locks” the ring to the disk and keeps it from sliding around)."
   ]
  },
  {
   "cell_type": "markdown",
   "id": "a13dc2e4",
   "metadata": {},
   "source": [
    "### Setting up the Experiment--Software\n",
    "\n",
    "1. Make sure that the yellow plug is connected to digital input 1 and the black plug is connected to digital input 2.\n",
    "2. Power on the PASCO 850 by pressing and holding the power button until it beeps and the green light comes on.\n",
    "3. Start the PASCO Capstone software.\n",
    "4. Click “Hardware Setup” on the left-side “Tools” palette. A picture of the PASCO 850 interface will appear.\n",
    "5. Click on the Digital Input 1 port and select “Rotary Motion Sensor.”\n",
    "6. At the lower-right, click “Properties” and change “Resolution” to “High: 1440 counts per revolution.” and click “OK.”\n",
    "7. Click “Hardware Setup” again to close that menu.\n",
    "8. Drag “Graph” from the right-side “Displays” palette onto the main window. A graph will magically appear. Click on `<Select Measurement>` on your y-axis and select “Angle (rad).”\n",
    "9. Take some data while rotating the ring to make sure that everything is working properly."
   ]
  },
  {
   "cell_type": "markdown",
   "id": "7c146ad3",
   "metadata": {},
   "source": [
    "### Data Taking Procedure\n",
    "The goal of this experiment is to find the angular acceleration of the disk and ring for different applied torques. The torque you apply will be created by the weight you place on the mass hanger (don’t forget the mass of the hanger!) and the radius of the stage you choose to wrap the thread around.\n",
    "\n",
    "Thread the string through the hole in the stage you will use. Push at least 10 cm of thread through the hole. Wrap the thread around the stage by rotating the stage in the direction opposite to the way you’d like the stage to spin, and letting the thread slide across your hand as you guide it onto the pulley. After a few turns, the thread will have enough friction to stay in place. Continue rotating the stage with just a little tension on the thread.\n",
    "\n",
    "The mass-hanger end of the string should rest on the “super pulley.” Make sure that the “super pulley” is at a height so that the thread remains level as it travels from the three-stage pulley to the “super pulley.” You can adjust the height of the “super pulley” by loosening the two screws on either side of it (don’t forget to re-tighten them!) Then follow these instructions:\n",
    "\n",
    "1. Hold the stage so that it does not rotate.\n",
    "2. Place your mass hanger on the end of the string dangling over the “super pulley.” **Do not exceed 40 g**.\n",
    "3. Wait for the hanger to stop spinning.\n",
    "4. Release the stage **first**\n",
    "5. Click “Record”\n",
    "6. Click “Stop” **before the hanger hits the ground**.\n",
    "\n",
    "You will need to perform the same experiment for each mass you choose. Run each mass a few times and use the average and standard deviation of your results. Then change the mass on the hanger and do it again."
   ]
  },
  {
   "cell_type": "markdown",
   "id": "9fa93a13",
   "metadata": {},
   "source": [
    "### Torque vs. Angular Acceleration\n",
    "The goal of this experiment is to verify equation ([4](#mjx-eqn)). You will have *two* “point” masses which you must place at identical distances from the axle (this is to keep the system dynamically balanced). Using a single hanging mass which generates the same torque for each trial, you will measure the angular acceleration of the system when the “point” masses are at 14, 15, 16, 17, and 18 cm from the axle. You will compute the moment of inertia for each trial and plot it as a function of distance."
   ]
  },
  {
   "cell_type": "markdown",
   "id": "5c94a93c",
   "metadata": {},
   "source": [
    "### Setting up the Experiment\n",
    "Before doing anything, you should take the “point” masses and rod and measure their masses and sizes. Before measuring the mass of the rod, remove the “captured screw.” **Replace this screw immediately after weighing the rod.**\n",
    "\n",
    "1. Remove the ring and disk and store the knurled screw in the bottom of the axle.\n",
    "2. Flip the three-stage pulley so that the largest diameter stage is on top (**remember that it’s keyed!**)\n",
    "3. Place the center of the “point” masses at your first location. Tighten the nylon screws so the masses are firmly held in place.\n",
    "4. Notice that the “top” of the three-stage pulley has a guide. Set the rod in the guide and secure it to the axle with the screw.\n",
    "\n",
    "You are now ready to take your data.\n",
    "\n",
    "**Safety Tip:** Depending on the hanger mass you choose, the rod may be spinning fairly quickly at the end of a run. <u>**Do not try to stop the rod by grabbing the rod!**</u> You can safely stop the rod by grabbing onto the portion of the axle that sticks out of the *bottom* of the sensor (where you stored the knurled screw)."
   ]
  },
  {
   "cell_type": "markdown",
   "id": "da7fb4d5",
   "metadata": {},
   "source": [
    "### The Effective Torque\n",
    "Now that you’ve read through the whole lab hand out, it is important to notice that friction contributes a torque *opposite* to the torque you are applying. Your effective torque is, of course, the difference between these two torques and this is the torque you should be using to compute your moments of inertia. But how do you determine the torque due to friction?\n",
    "\n",
    "The theoretical frictional torque is given by equation ([3](#mjx-eqn)) if we know the angular acceleration and the moment of inertia of the system. You can measure the angular acceleration due to friction by measuring it right after the system has been spun up by the hanging mass. Simply use Capstone to record the data right after a run while the system is still spinning (although this might be done after *every* run, time constraints might make it more appropriate to measure it one time for each of the two systems). Ten seconds of spin-down measurement should be sufficient. The moment of inertia should be the theoretical one you can compute by knowing the masses and dimensions of the system."
   ]
  },
  {
   "cell_type": "markdown",
   "id": "d13ee603",
   "metadata": {},
   "source": []
  }
 ],
 "metadata": {
  "kernelspec": {
   "display_name": "Python 3",
   "language": "python",
   "name": "python3"
  },
  "language_info": {
   "codemirror_mode": {
    "name": "ipython",
    "version": 3
   },
   "file_extension": ".py",
   "mimetype": "text/x-python",
   "name": "python",
   "nbconvert_exporter": "python",
   "pygments_lexer": "ipython3",
   "version": "3.6.8"
  }
 },
 "nbformat": 4,
 "nbformat_minor": 5
}
