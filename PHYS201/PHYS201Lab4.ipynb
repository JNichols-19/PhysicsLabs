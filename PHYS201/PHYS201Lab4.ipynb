{
 "cells": [
  {
   "cell_type": "markdown",
   "metadata": {},
   "source": [
    "# Experiment 4: Air Track II---Newton’s Second Law\n",
    "### Objectives\n",
    "- To learn to take good measurements\n",
    "- To learn how to estimate and propagate errors\n",
    "- To learn how to take measurements to verify a theory\n",
    "\n",
    "### Equipment\n",
    "- One Airtrack, Blower, and Cart\n",
    "- One accessory kit containing: one pulley, one mass hanger, and masses for cart and hanger.\n",
    "- Two (2) photogates\n",
    "- One 30 cm ruler\n",
    "- One vernier caliper\n",
    "- One two-meter stick\n",
    "- One scale\n",
    "\n",
    "### Safety\n",
    "- Be careful placing the carts on the track. Do not damage the track.\n",
    "- Please place paper underneath the carts when they are resting on the track without the air turned on. **Do not slide the carts on the track without the air turned on.**"
   ]
  },
  {
   "cell_type": "markdown",
   "metadata": {},
   "source": [
    "# Introduction\n",
    "In 1686, Isaac Newton published his three laws of motion using information he gained from experiments performed by both Galileo Galilei and Johannes Kepler:\n",
    "1. If there is no net force, there is no acceleration\n",
    "2. If there is a net force, then *F = ma*\n",
    "3. If object A places a force on object B, then object B places an equal but opposite force on object A.\n",
    "\n",
    "Today you will be verifying Newton’s second law by using a known force to accelerate an airtrack glider, measuring that acceleration, and comparing it to the predicted acceleration."
   ]
  },
  {
   "cell_type": "markdown",
   "metadata": {},
   "source": [
    "# Theory\n",
    "### Kinematics\n",
    "First and foremost, you will need to compute the acceleration of the aitrack glider. The information you will have, however, is velocity computed by a photogate. The photogate measures the velocity of the glider as it passes through by timing how long the infrared LED is blocked by the object (sometimes called a “flag”) passing through and uses the definition of velocity:  \n",
    "\n",
    "\\begin{equation}\n",
    "v \\equiv \\frac{\\Delta x}{\\Delta t}\n",
    "\\label{eq:velocity}\n",
    "\\end{equation}\n",
    "\n",
    "where $\\Delta x$ is the length of the flag and $\\Delta t$ is the time the LED was blocked.\n",
    "\n",
    "To determine the acceleration of the glider, consider the definition of acceleration:  \n",
    "\\begin{equation}\n",
    "a_{x} \\equiv \\frac{\\Delta v_{x}}{\\Delta t}\n",
    "\\label{eq:acceleration}\n",
    "\\end{equation}\n",
    "\n",
    "To use this, you will need to know the velocity of the cart at two different times. Think carefully about how you might measure those times.\n",
    "\n",
    "Keep in mind that you will need to determine the errors in your measurements and propagate those errors into your computed acceleration."
   ]
  },
  {
   "cell_type": "markdown",
   "metadata": {},
   "source": [
    "### Force\n",
    "A proper prediction of the acceleration of the glider from Newton’s second law requires great care. It is imperative that you draw both free body diagrams (one for the cart and one for the hanging mass) to determine the acceleration of the system. Recall that the force of gravity on an object is given by $F = mg$ where $g \\equiv 9.81 \\pm 0.005 m/s^2$ so that $ \\delta g = 0.005 m/s^2$. You should find that the acceleration of the system is some fraction of g involving the masses of both the glider and the hanging mass."
   ]
  },
  {
   "cell_type": "markdown",
   "metadata": {},
   "source": [
    "### Uncertainty Analysis\n",
    "You will need to compute the uncertainty in both your predicted and your measured accelerations. The uncertainty in your predicted acceleration will depend on the uncertainty in “g” as well as the uncertainties in the masses. The uncertainty in your “measured” acceleration will depend on the uncertainties in your measured velocities and times.\n",
    "\n",
    "The Capstone software can measure time to within $ \\delta t = 0.1 ms$.\n",
    "\n",
    "Your Lab Manual and the previous labs can guide you in estimating the uncertainties in your measurements and propagating those uncertainties into your computed accelerations. The uncertainty in the masses of the glider and hanging mass will be determined by the accuracy of the scale. For your velocities, it might be easier to use the standard deviation of a large number of measurements as your measurement uncertainty. The uncertainty in your acceleration, however, will have to be computed using the three equations in your Lab Manual.\n",
    "\n",
    "In order to minimize random errors, it is extremely important that each of your measurements be performed several times."
   ]
  },
  {
   "cell_type": "markdown",
   "metadata": {},
   "source": [
    "# Experimental Procedure\n",
    "\n",
    "### Setting up the Air Track\n",
    "Ensure that the pulley is securely inserted into the top hole in the bracket at the far end of the track and that it spins freely. Make sure that the blower is functioning properly (you should be able to feel the air streaming out of the pin-holes). Make sure that the hanging mass will not strike the table as it falls.\n",
    "\n",
    "You will need to level the airtrack so that the only force comes from the hanging mass. Look back to the second lab for instructions if you’ve forgotten how to do this."
   ]
  },
  {
   "cell_type": "markdown",
   "metadata": {},
   "source": [
    "### Setting up a Photogate\n",
    "1. Turn on the PASCO 850 Interface and start the PASCO Capstone software.\n",
    "2. Plug a photogate into a Digital input.\n",
    "3. Click the “Hardware Setup” tab in the left “Tools” palette, left-click the jack on the diagram where you inserted the plug, and select “Photogate” from the drop-down menu.\n",
    "4. You should see a tab labeled “Timer Setup.” Open that tab and set up a pre-configured timer:\n",
    "    a. Select the photogate you just installed.\n",
    "    b. You will be using this photogate with a single flag.\n",
    "    c. The computer need only keep track of the speed through the gate.\n",
    "    d. A text box requesting the length of the flag in meters will appear. Measure the flag as best you can and enter that information in the box.\n",
    "    e. Give this sensor a name such as “Photogate 1” or similar.\n",
    "\n",
    "Repeat steps 2—4e for the second photogate.\n",
    "\n",
    "When you adjust the height of the photogate, make sure that it is triggered only by the flag. The string should not trigger the photogate. You can tell when the photogate is triggered by looking for the red LED to light when the infrared LED is blocked. Ensure that the red LED only lights when the proper portion of the cart passes through.\n",
    "\n",
    "Something to think about when choosing the positions for your photogates: Where should the mass hanger be while the cart goes through a photogate?"
   ]
  },
  {
   "cell_type": "markdown",
   "metadata": {},
   "source": [
    "### Data Collection\n",
    "<u>**To release the cart: Hold the cart in position and turn on the blower. The cart must be released when the blower is running at full speed.**</u>\n",
    "\n",
    "Capstone will display the photogate data any way you like. The best tool for displaying the data from a photogate, however, might be a table that plots the time that the photogate was triggered in one column and the velocity through that photogate in the other.\n",
    "\n",
    "Your goal is to confirm or deny Newton’s Second Law: $F = ma$. Notice that, if you had data points for the force (tension), *F*, as a function of the acceleration, *a*, you could create a graph. If that graph had the right shape, you might say that you had confirmed Newton’s Second Law. How should you plot this graph so that the slope has meaning?\n",
    "\n",
    "You will need to plot a few different points of tension versus acceleration for each cart mass---*at least five* points, but the more data you have, the better your graph will be. Therefore, pick a cart mass and measure its acceleration for each of five different hanging masses. Once you’ve done that, change the cart mass and repeat the experiment. Please make sure that your cart does not bounce back through the second photogate after striking the bumper at the end of the track.\n",
    "\n",
    "Your final result should be a graph of the force on the glider vs. the acceleration of the glider taken at a number of different masses for the hanging mass and the glider mass.\n",
    "\n",
    "**Remember: Time is short---taking data is your first priority.** However, if the data you are taking is poor, then you might as well not be taking any data at all. Always dedicate one team member to compute the results of your experiments (in this case, they should be computing your measured accelerations) to see if your data matches your theoretical prediction. If your data is *not* matching your predictions, you should stop *and* diagnose the problem (check both your experiment and your prediction) before continuing.\n",
    "\n",
    "You <u>must</u> take data with at least <u>two different cart masses</u>. If there is time, you can create a third graph with a third cart mass if you like. But you might make a preliminary plot of the data you have and try and fill in any gaps in that data, first."
   ]
  },
  {
   "cell_type": "markdown",
   "metadata": {},
   "source": [
    "***"
   ]
  },
  {
   "cell_type": "markdown",
   "metadata": {},
   "source": []
  }
 ],
 "metadata": {
  "kernelspec": {
   "display_name": "Python 3",
   "language": "python",
   "name": "python3"
  },
  "language_info": {
   "codemirror_mode": {
    "name": "ipython",
    "version": 3
   },
   "file_extension": ".py",
   "mimetype": "text/x-python",
   "name": "python",
   "nbconvert_exporter": "python",
   "pygments_lexer": "ipython3",
   "version": "3.6.8"
  }
 },
 "nbformat": 4,
 "nbformat_minor": 4
}
