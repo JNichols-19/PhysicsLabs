{
 "cells": [
  {
   "cell_type": "markdown",
   "metadata": {},
   "source": [
    "# Experiment 4: Air Track II---Newton’s Second Law\n",
    "### Objectives\n",
    "- To learn to take good measurements\n",
    "- To learn how to estimate and propagate errors\n",
    "- To learn how to take measurements to verify a theory\n",
    "\n",
    "### Equipment\n",
    "- One Airtrack, Blower, and Cart\n",
    "- One accessory kit containing: one pulley, one mass hanger, and masses for cart and hanger.\n",
    "- Two (2) photogates\n",
    "- One 30 cm ruler\n",
    "- One vernier caliper\n",
    "- One two-meter stick\n",
    "- One scale\n",
    "\n",
    "### Safety\n",
    "- Be careful placing the carts on the track. Do not damage the track.\n",
    "- Please place paper underneath the carts when they are resting on the track without the air turned on. **Do not slide the carts on the track without the air turned on.**"
   ]
  },
  {
   "cell_type": "markdown",
   "metadata": {},
   "source": [
    "# Introduction\n",
    "In 1686, Isaac Newton published his three laws of motion using information he gained from experiments performed by both Galileo Galilei and Johannes Kepler:\n",
    "1. If there is no net force, there is no acceleration\n",
    "2. If there is a net force, then *F = ma*\n",
    "3. If object A places a force on object B, then object B places an equal but opposite force on object A.\n",
    "\n",
    "Today you will be verifying Newton’s second law by using a known force to accelerate an airtrack glider, measuring that acceleration, and comparing it to the predicted acceleration."
   ]
  },
  {
   "cell_type": "markdown",
   "metadata": {},
   "source": [
    "# Theory\n",
    "### Kinematics\n",
    "First and foremost, you will need to compute the acceleration of the aitrack glider. The information you will have, however, is velocity computed by a photogate. The photogate measures the velocity of the glider as it passes through by timing how long the infrared LED is blocked by the object (sometimes called a “flag”) passing through and uses the definition of velocity:  \n",
    "\n",
    "\\begin{equation}\n",
    "v \\equiv \\frac{\\Delta x}{\\Delta t}\n",
    "\\label{eq:velocity}\n",
    "\\end{equation}\n",
    "\n",
    "where $\\Delta x$ is the length of the flag and $\\Delta t$ is the time the LED was blocked.\n",
    "\n",
    "To determine the acceleration of the glider, consider the definition of acceleration:  \n",
    "\\begin{equation}\n",
    "a_{x} \\equiv \\frac{\\Delta v_{x}}{\\Delta t}\n",
    "\\label{eq:acceleration}\n",
    "\\end{equation}\n",
    "\n",
    "To use this, you will need to know the velocity of the cart at two different times. Think carefully about how you might measure those times.\n",
    "\n",
    "Keep in mind that you will need to determine the errors in your measurements and propagate those errors into your computed acceleration."
   ]
  },
  {
   "cell_type": "markdown",
   "metadata": {},
   "source": [
    "### Force\n",
    "A proper prediction of the acceleration of the glider from Newton’s second law requires great care. It is imperative that you draw both free body diagrams (one for the cart and one for the hanging mass) to determine the acceleration of the system. Recall that the force of gravity on an object is given by $F = mg$ where $g \\equiv 9.81 \\pm 0.005 m/s^2$ so that $ \\delta g = 0.005 m/s^2$. You should find that the acceleration of the system is some fraction of g involving the masses of both the glider and the hanging mass."
   ]
  },
  {
   "cell_type": "markdown",
   "metadata": {},
   "source": [
    "### Uncertainty Analysis\n",
    "You will need to compute the uncertainty in both your predicted and your measured accelerations. The uncertainty in your predicted acceleration will depend on the uncertainty in “g” as well as the uncertainties in the masses. The uncertainty in your “measured” acceleration will depend on the uncertainties in your measured velocities and times.\n",
    "\n",
    "The Capstone software can measure time to within $ \\delta t = 0.1 ms$.\n",
    "\n",
    "Your Lab Manual and the previous labs can guide you in estimating the uncertainties in your measurements and propagating those uncertainties into your computed accelerations. The uncertainty in the masses of the glider and hanging mass will be determined by the accuracy of the scale. For your velocities, it might be easier to use the standard deviation of a large number of measurements as your measurement uncertainty. The uncertainty in your acceleration, however, will have to be computed using the three equations in your Lab Manual.\n",
    "\n",
    "In order to minimize random errors, it is extremely important that each of your measurements be performed several times."
   ]
  },
  {
   "cell_type": "code",
   "execution_count": null,
   "metadata": {},
   "outputs": [],
   "source": []
  }
 ],
 "metadata": {
  "kernelspec": {
   "display_name": "Python 3",
   "language": "python",
   "name": "python3"
  },
  "language_info": {
   "codemirror_mode": {
    "name": "ipython",
    "version": 3
   },
   "file_extension": ".py",
   "mimetype": "text/x-python",
   "name": "python",
   "nbconvert_exporter": "python",
   "pygments_lexer": "ipython3",
   "version": "3.6.8"
  }
 },
 "nbformat": 4,
 "nbformat_minor": 4
}
