{
 "cells": [
  {
   "cell_type": "markdown",
   "id": "2c8b9a2f",
   "metadata": {},
   "source": [
    "# Lab 6: Collisions in 2D\n",
    "### Objectives\n",
    "- To learn to take good measurements\n",
    "- To learn how to estimate and propagate errors\n",
    "- To learn how to take measurements to verify a theory\n",
    "- To experiment with collisions\n",
    "\n",
    "### Equipment\n",
    "- One Collision table set up with Spark Timer and Carbon Mat\n",
    "- A number of recording sheets\n",
    "- One protractor\n",
    "- One 30 cm ruler\n",
    "- One scale\n",
    "\n",
    "### Safety\n",
    "- <u>**Electrical Hazard**</u>: The Spark Timer generates dots on the recording sheet by passing high voltage from one puck, through the carbon mat, to the other puck.\n",
    "    - The red and black cables <u>must always be securely connected</u> between the Spark Timer and the Table and they <u>must be in good condition</u>.\n",
    "    - <u>Do not depress the foot switch without both pucks on the table.</u>\n",
    "    - <u>**Do not touch the metal pucks while the footswitch is depressed.**</u>\n",
    "    - Alert your instructor if the cables are in poor condition, are not remaining seated, or if the <u>sparking is clearly audible</u>.\n",
    "- Use the <u>least possible force</u> when sending a puck along the table. Ask your instructor to help you assemble a rubber-band launcher if you prefer---they will give you more reproducible results as well.\n",
    "- Do not touch the latex tubes connecting the compressed air distributor to the air pucks. Latex is damaged by oils and UV light (it is also possible---though unlikely---that you might have an allergy to latex).\n",
    "- <u>Do not depress the footswitch until you are ready to take data</u>. Leaving a puck in one place for longer than 20 seconds while generating spark data can damage the carbon mat.\n",
    "- Do not write on the paper while it is on the carbon mat."
   ]
  },
  {
   "cell_type": "markdown",
   "id": "d3495db5",
   "metadata": {},
   "source": [
    "# Introduction\n",
    "One of the primary results of Newtonian Mechanics is that, if there are no external forces, the momentum of a system is conserved---even if mechanical energy is not. This experiment will allow you to test that theory by sending two pucks towards each other and recording their speeds and trajectories both before and after a collision. \n",
    "\n",
    "The collision table has a couple of features to help you analyze collisions: The pucks use compressed air to act like hovercraft---greatly reducing friction. And a Spark Timer will generate dots at a frequency of your choosing so that you can locate each puck accurately and use simple kinematics to determine the puck’s velocity and direction.\n",
    "\n",
    "Your experiments should be performed so that it is clear whether or not momentum is conserved during collisions which both conserve and do not conserve kinetic energy.\n",
    "\n",
    "It will be to your benefit to be slow and careful while performing this lab."
   ]
  },
  {
   "cell_type": "markdown",
   "id": "505b1b95",
   "metadata": {},
   "source": [
    "# Theory\n",
    "\n",
    "### Conservation of Momentum\n",
    "The momentum of an object is the product of the mass and the velocity of that object. Because velocity is a vector, momentum must also be a vector:  \n",
    "\n",
    "\\begin{equation}\n",
    "\\vec{p} \\equiv m \\vec{v}\n",
    "\\tag{1}\n",
    "\\end{equation}\n",
    "\n",
    "One must keep track of both the x and y components of the momentum at all times.\n",
    "\n",
    "The momentum of a system of particles is simply the sum of the momenta of each particle:\n",
    "\n",
    "\\begin{equation}\n",
    "\\vec{p_{sys}} \\equiv \\sum _{i} \\vec{p_{i}}\n",
    "\\tag{2}\n",
    "\\end{equation}\n",
    "\n",
    "Remember that these are vectors and must be added using vector addition. Consult chapter three of your textbook for more details.\n",
    "\n",
    "Because Newton’s second law actually reads  \n",
    "\n",
    "\\begin{equation}\n",
    "\\vec{F} \\equiv \\frac{d \\vec{p}}{dt}\n",
    "\\tag{3}\n",
    "\\end{equation}\n",
    "\n",
    "it can be interpreted to say “an external force on a system induces a change in momentum of that system.” Therefore, if there is no external force, there is no change in momentum. (If you assume the mass of the system is constant and you know how to work with derivatives, you should be able to re-derive the old version:  $\\vec{F} \\equiv m \\vec{a}$ ).  \n",
    "\n",
    "In a collision, the most important forces will be internal to the system. In other words, every force will be one of an “action-reaction” pair which comes from within the system itself (e.g. one puck striking the other). Because there will be no external forces (forces that have their origin outside the system), by Newton’s second law, we expect the momentum of the system to remain constant.\n",
    "\n",
    "To verify this, you will need to measure the masses of the pucks and their velocities both before and after each collision."
   ]
  },
  {
   "cell_type": "markdown",
   "id": "903b27fd",
   "metadata": {},
   "source": [
    "### Elastic and Inelastic Collisions\n",
    "Although *momentum* is conserved in all collisions (when they are free from external forces), it is not always true that *kinetic energy* is conserved. When two cars collide on an icy street, they may bounce off of one another (for low-speed collisions), or they may stick to one another (for high-speed collisions).\n",
    "\n",
    "If the cars bounce off each other, we expect the *total* kinetic energy to be conserved (so that the sum of the kinetic energies before the collision equals the sum afterwards, even if the individual speeds changed). This kind of collision is called a <u>**totally elastic collision.**</u>\n",
    "\n",
    "If the cars stick to each other, we expect that some (or all) of the kinetic energy was lost (where did it go?) These kinds of collisions are called <u>**inelastic collisions.**</u>\n",
    "\n",
    "To determine if the collision was totally elastic or inelastic, you will need to compute the kinetic energy of each puck  \n",
    "\n",
    "\\begin{equation}\n",
    "K = \\frac{1}{2} m v^2\n",
    "\\tag{4}\n",
    "\\end{equation}\n",
    "\n",
    "and add them together. Then compare the sum before the collision to the sum following the collision."
   ]
  },
  {
   "cell_type": "markdown",
   "id": "ca01f5c8",
   "metadata": {},
   "source": [
    "### Kinematics\n",
    "Clearly, you will need to compute the velocity of the air puck. The information you will have, however, are dots generated by the Spark Timer. The dots will be generated at a rate you set (either with a knob or with the digital controller) and that rate will allow you to compute the puck’s velocity using basic kinematics:  \n",
    "\n",
    "\\begin{equation} \n",
    "v \\equiv \\frac{\\Delta s}{\\Delta t} \n",
    "\\tag{5} \n",
    "\\end{equation}\n",
    "\n",
    "where $\\Delta s$ is the distance *between* dots and $\\Delta t$ is the time between sparks. The Spark Timer has *frequency* settings (measured in Hz or 1/s). Remember that the frequency is inversely related to the period:  \n",
    "\n",
    "\\begin{equation} \n",
    "f \\equiv \\frac{t}{\\tau} \n",
    "\\tag{6} \n",
    "\\end{equation}\n",
    "\n",
    "(You can remember this by thinking about tapping your finger on the desk: If you tap your finger 8 times per second, then the time between taps is 1/8 = 0.125 second. If you tap your finger more quickly, the frequency goes *up*, but the time between taps must go down.)"
   ]
  },
  {
   "cell_type": "markdown",
   "id": "09e836c6",
   "metadata": {},
   "source": [
    "### Velocity of the Center of Mass\n",
    "If the two pucks were connected with a thin rod, the center of mass of the system would be the place where you could balance that rod. We find the center of mass of two objects by a weighted average:  \n",
    "\n",
    "\\begin{equation}\n",
    "x_{cm} = \\frac{m_{1} x_{1} + m_{2} x_{2}}{m_{1} + m_{2}} \\quad \\textrm{and} \\quad y_{cm} = \\frac{m_{1} y_{1} + m_{2} y_{2}}{m_{1} + m_{2}}\n",
    "\\tag{7}\n",
    "\\end{equation}\n",
    "\n",
    "By taking derivatives, we can find the x- and y-velocities of the center of mass:  \n",
    "\n",
    "\\begin{equation}\n",
    "v_{x,cm} = \\frac{m_{1} v_{x,1} + m_{2} v_{x,2}}{m_{1} + m_{2}} \\quad \\textrm{and} \\quad v_{y,cm} = \\frac{m_{1} v_{y,1} + m_{2} v_{y,2}}{m_{1} + m_{2}}\n",
    "\\tag{8}\n",
    "\\end{equation}"
   ]
  },
  {
   "cell_type": "markdown",
   "id": "fdfbfb27",
   "metadata": {},
   "source": [
    "### Uncertainty Analysis\n",
    "Your Lab Manual and the previous labs can guide you in estimating the uncertainties in your measurements and propagating those errors into your computed energies and momenta. The uncertainty in the masses of the air puck will be determined by the accuracy of the scale.\n",
    "\n",
    "The uncertainties in your velocities will come from how accurately you can measure distances and times. The uncertainty in the Spark Timer’s frequency is 1% of the frequency you chose. To reduce the uncertainty in your distance between dots, you can measure the distance, *L*, between *n* dots. The average distance between dots is then $\\Delta s = L/(n-1)$. Your uncertainty in that distance is then $\\delta (\\Delta s) = \\delta s/(n-1)$.\n",
    "\n",
    "In some cases, it might be easier to use the standard deviation of a large number of\n",
    "measurements as your measurement uncertainty."
   ]
  },
  {
   "cell_type": "markdown",
   "id": "816b6887",
   "metadata": {},
   "source": []
  }
 ],
 "metadata": {
  "kernelspec": {
   "display_name": "Python 3",
   "language": "python",
   "name": "python3"
  },
  "language_info": {
   "codemirror_mode": {
    "name": "ipython",
    "version": 3
   },
   "file_extension": ".py",
   "mimetype": "text/x-python",
   "name": "python",
   "nbconvert_exporter": "python",
   "pygments_lexer": "ipython3",
   "version": "3.6.8"
  }
 },
 "nbformat": 4,
 "nbformat_minor": 5
}
