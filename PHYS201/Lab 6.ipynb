{
 "cells": [
  {
   "cell_type": "markdown",
   "id": "642b4844",
   "metadata": {},
   "source": [
    "# Lab 6: Collisions in 2D\n",
    "### Objectives\n",
    "- To learn to take good measurements\n",
    "- To learn how to estimate and propagate errors\n",
    "- To learn how to take measurements to verify a theory\n",
    "- To experiment with collisions\n",
    "\n",
    "### Equipment\n",
    "- One Collision table set up with Spark Timer and Carbon Mat\n",
    "- A number of recording sheets\n",
    "- One protractor\n",
    "- One 30 cm ruler\n",
    "- One scale\n",
    "\n",
    "### Safety\n",
    "- <u>**Electrical Hazard**</u>: The Spark Timer generates dots on the recording sheet by passing high voltage from one puck, through the carbon mat, to the other puck.\n",
    "    - The red and black cables <u>must always be securely connected</u> between the Spark Timer and the Table and they <u>must be in good condition</u>.\n",
    "    - <u>Do not depress the foot switch without both pucks on the table.</u>\n",
    "    - <u>**Do not touch the metal pucks while the footswitch is depressed.**</u>\n",
    "    - Alert your instructor if the cables are in poor condition, are not remaining seated, or if the <u>sparking is clearly audible</u>.\n",
    "- Use the <u>least possible force</u> when sending a puck along the table. Ask your instructor to help you assemble a rubber-band launcher if you prefer---they will give you more reproducible results as well.\n",
    "- Do not touch the latex tubes connecting the compressed air distributor to the air pucks. Latex is damaged by oils and UV light (it is also possible---though unlikely---that you might have an allergy to latex).\n",
    "- <u>Do not depress the footswitch until you are ready to take data</u>. Leaving a puck in one place for longer than 20 seconds while generating spark data can damage the carbon mat.\n",
    "- Do not write on the paper while it is on the carbon mat."
   ]
  },
  {
   "cell_type": "markdown",
   "id": "d9154027",
   "metadata": {},
   "source": [
    "# Introduction\n",
    "One of the primary results of Newtonian Mechanics is that, if there are no external forces, the momentum of a system is conserved---even if mechanical energy is not. This experiment will allow you to test that theory by sending two pucks towards each other and recording their speeds and trajectories both before and after a collision. \n",
    "\n",
    "The collision table has a couple of features to help you analyze collisions: The pucks use compressed air to act like hovercraft---greatly reducing friction. And a Spark Timer will generate dots at a frequency of your choosing so that you can locate each puck accurately and use simple kinematics to determine the puck’s velocity and direction.\n",
    "\n",
    "Your experiments should be performed so that it is clear whether or not momentum is conserved during collisions which both conserve and do not conserve kinetic energy.\n",
    "\n",
    "It will be to your benefit to be slow and careful while performing this lab."
   ]
  },
  {
   "cell_type": "markdown",
   "id": "14d62f33",
   "metadata": {},
   "source": [
    "# Theory\n",
    "\n",
    "### Conservation of Momentum\n",
    "The momentum of an object is the product of the mass and the velocity of that object. Because velocity is a vector, momentum must also be a vector:  \n",
    "\n",
    "\\begin{equation}\n",
    "\\vec{p} \\equiv m \\vec{v}\n",
    "\\tag{1}\n",
    "\\end{equation}\n",
    "\n",
    "One must keep track of both the x and y components of the momentum at all times.\n",
    "\n",
    "The momentum of a system of particles is simply the sum of the momenta of each particle:\n",
    "\n",
    "\\begin{equation}\n",
    "\\vec{p_{sys}} \\equiv \\sum _{i} \\vec{p_{i}}\n",
    "\\tag{2}\n",
    "\\end{equation}\n",
    "\n",
    "Remember that these are vectors and must be added using vector addition. Consult chapter three of your textbook for more details.\n",
    "\n",
    "Because Newton’s second law actually reads  \n",
    "\n",
    "\\begin{equation}\n",
    "\\vec{F} \\equiv \\frac{d \\vec{p}}{dt}\n",
    "\\tag{3}\n",
    "\\end{equation}\n",
    "\n",
    "it can be interpreted to say “an external force on a system induces a change in momentum of that system.” Therefore, if there is no external force, there is no change in momentum. (If you assume the mass of the system is constant and you know how to work with derivatives, you should be able to re-derive the old version:  $\\vec{F} \\equiv m \\vec{a}$ ).  \n",
    "\n",
    "In a collision, the most important forces will be internal to the system. In other words, every force will be one of an “action-reaction” pair which comes from within the system itself (e.g. one puck striking the other). Because there will be no external forces (forces that have their origin outside the system), by Newton’s second law, we expect the momentum of the system to remain constant.\n",
    "\n",
    "To verify this, you will need to measure the masses of the pucks and their velocities both before and after each collision."
   ]
  },
  {
   "cell_type": "markdown",
   "id": "6c851349",
   "metadata": {},
   "source": []
  }
 ],
 "metadata": {
  "kernelspec": {
   "display_name": "Python 3",
   "language": "python",
   "name": "python3"
  },
  "language_info": {
   "codemirror_mode": {
    "name": "ipython",
    "version": 3
   },
   "file_extension": ".py",
   "mimetype": "text/x-python",
   "name": "python",
   "nbconvert_exporter": "python",
   "pygments_lexer": "ipython3",
   "version": "3.6.8"
  }
 },
 "nbformat": 4,
 "nbformat_minor": 5
}
