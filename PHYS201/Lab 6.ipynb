{
 "cells": [
  {
   "cell_type": "markdown",
   "id": "a74c0fe1",
   "metadata": {},
   "source": [
    "# Lab 6: Collisions in 2D\n",
    "### Objectives\n",
    "- To learn to take good measurements\n",
    "- To learn how to estimate and propagate errors\n",
    "- To learn how to take measurements to verify a theory\n",
    "- To experiment with collisions\n",
    "\n",
    "### Equipment\n",
    "- One Collision table set up with Spark Timer and Carbon Mat\n",
    "- A number of recording sheets\n",
    "- One protractor\n",
    "- One 30 cm ruler\n",
    "- One scale\n",
    "\n",
    "### Safety\n",
    "- <u>**Electrical Hazard**</u>: The Spark Timer generates dots on the recording sheet by passing high voltage from one puck, through the carbon mat, to the other puck.\n",
    "    - The red and black cables <u>must always be securely connected</u> between the Spark Timer and the Table and they <u>must be in good condition</u>.\n",
    "    - <u>Do not depress the foot switch without both pucks on the table.</u>\n",
    "    - <u>**Do not touch the metal pucks while the footswitch is depressed.**</u>\n",
    "    - Alert your instructor if the cables are in poor condition, are not remaining seated, or if the <u>sparking is clearly audible</u>.\n",
    "- Use the <u>least possible force</u> when sending a puck along the table. Ask your instructor to help you assemble a rubber-band launcher if you prefer---they will give you more reproducible results as well.\n",
    "- Do not touch the latex tubes connecting the compressed air distributor to the air pucks. Latex is damaged by oils and UV light (it is also possible---though unlikely---that you might have an allergy to latex).\n",
    "- <u>Do not depress the footswitch until you are ready to take data</u>. Leaving a puck in one place for longer than 20 seconds while generating spark data can damage the carbon mat.\n",
    "- Do not write on the paper while it is on the carbon mat."
   ]
  },
  {
   "cell_type": "markdown",
   "id": "47e78752",
   "metadata": {},
   "source": []
  }
 ],
 "metadata": {
  "kernelspec": {
   "display_name": "Python 3",
   "language": "python",
   "name": "python3"
  },
  "language_info": {
   "codemirror_mode": {
    "name": "ipython",
    "version": 3
   },
   "file_extension": ".py",
   "mimetype": "text/x-python",
   "name": "python",
   "nbconvert_exporter": "python",
   "pygments_lexer": "ipython3",
   "version": "3.6.8"
  }
 },
 "nbformat": 4,
 "nbformat_minor": 5
}
