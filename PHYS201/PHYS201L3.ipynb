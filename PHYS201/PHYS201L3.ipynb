{
 "cells": [
  {
   "cell_type": "markdown",
   "metadata": {},
   "source": [
    "# Experiment 3: Projectile Motion\n",
    "### Objectives\n",
    "- To learn to take good measurements\n",
    "- To learn how to estimate and propagate uncertainties\n",
    "- To learn how to apply the kinematic equations to projectile motion\n",
    "\n",
    "### Equipment\n",
    "- One PASCO Ballistic Pendulum apparatus with plastic projectile\n",
    "- Two (2) C-Clamps\n",
    "- One stopwatch\n",
    "- One 30 cm ruler\n",
    "- One two-meter stick\n",
    "- One sheet of carbon paper\n",
    "- Plain white or ruled paper\n",
    "- Tape\n",
    "\n",
    "### Safety\n",
    "1. **DO NOT STAND ON LAB CHAIRS**\n",
    "2. **Treat the launcher like a weapon:**\n",
    "    - **NEVER fire the launcher at anyone---even in jest.**\n",
    "    - **DO NOT “arm” the launcher until you’re ready to fire it.**\n",
    "3. When “arming” the launcher, place the ball on the pin and press down on the ball. Trying to press down on the bare pin can hurt your hand."
   ]
  },
  {
   "cell_type": "markdown",
   "metadata": {},
   "source": [
    "# Introduction\n",
    "Projectile motion is two-dimensional motion where one direction is under constant acceleration\n",
    "and the other direction is unaccelerated. In this lab, your job will be to compare the prediction for the range of a projectile given by the kinematic equations with the experimentally determined ranges."
   ]
  },
  {
   "cell_type": "markdown",
   "metadata": {},
   "source": [
    "# Theory\n",
    "\n",
    "### Kinematics\n",
    "Let us recall the four important equations in kinematics. First, the definitions of velocity and acceleration in the x-direction:  \n",
    "\n",
    "\\begin{equation} \n",
    "v_{x} \\equiv \\frac{\\Delta x}{\\Delta t} \n",
    "\\label{eq:v_x} \n",
    "\\end{equation}  \n",
    "\n",
    "\\begin{equation}\n",
    "a_{x} \\equiv \\frac{\\Delta v_{x}}{\\Delta t}\n",
    "\\label{eq:a_x}\n",
    "\\end{equation}  \n",
    "\n",
    "Second, the two equations useful for objects moving under constant accelerations:  \n",
    "\n",
    "\\begin{equation}\n",
    "x(t) = \\frac{1}{2} a_{x} t^2 + v_{o,x} t + x_{o}\n",
    "\\label{eq:x_of_t}\n",
    "\\end{equation}  \n",
    "\n",
    "\\begin{equation}\n",
    "v_{f,x}^2 - v_{o,x}^2 = 2 a_{x} \\Delta x\n",
    "\\label{eq:v_acc}\n",
    "\\end{equation}  \n",
    "\n",
    "The same equations can be used in the y-direction by replacing all the x’s with y’s.\n",
    "\n",
    "In the horizontal direction (the x-direction), there is no acceleration, so that $a_x = 0 m/s^2$. However, gravity contributes a constant acceleration downwards (the –y direction) such that $a_y= -g$ where $g \\equiv 9.81 \\pm 0.005 m/s^2$ so that $ \\delta g = 0.005 m/s^2$.\n",
    "\n",
    "When you want to predict the distance that the projectile will go, you will need to combine two of the above equations. Because there is no acceleration in the x-direction, you can use equation $\\eqref{eq:v_x}$ to start. But you will need to know how long the ball is in flight for. This requires solving for time in equation $\\eqref{eq:x_of_t}$ for the y-direction. You may need to use the quadratic formula."
   ]
  },
  {
   "cell_type": "markdown",
   "metadata": {},
   "source": [
    "### Computing the “Muzzle Velocity”\n",
    "One of the most important values you will need for this experiment will be the “muzzle\n",
    "velocity,” $v_o$, of the launcher. One way to compute that velocity is to fire the launcher purely horizontally and use equation $\\eqref{eq:v_x}$. But we can also fire the launcher straight up and utilize the y version of equation $\\eqref{eq:v_acc}$. <u>Remember that, in our coordinate system, $a_y$ is a negative value</u>. By measuring the height that the ball attains and knowing the value of $a_y$, we can compute the “muzzle velocity” of the launcher."
   ]
  },
  {
   "cell_type": "markdown",
   "metadata": {},
   "source": [
    "### Theoretical Range Prediction\n",
    "Once the muzzle velocity has been determined, the theoretical range of the projectile can be\n",
    "predicted. Equation $\\eqref{eq:v_x}$ states that the range is completely determined by the x-component of the launch velocity and the time in the air:  \n",
    "\n",
    "\\begin{equation}\n",
    "\\Delta x = v_{x} (\\Delta t) = v_{o} \\cos{\\theta} (\\Delta t)\n",
    "\\label{eq:theo_range}\n",
    "\\end{equation}\n",
    "\n",
    "What remains is to determine the time, $ \\Delta t$, that the ball is in the air. This is completely determined by the vertical motion governed by equation $\\eqref{eq:x_of_t}$. This equation can be rearranged as a quadratic equation in standard form: \n",
    "\\begin{equation}\n",
    "A (\\Delta t)^2 + B (\\Delta t) + C = 0\n",
    "\\label{eq:standard_quad}\n",
    "\\end{equation}  \n",
    "\n",
    "which has a solution given by the quadratic formula:\n",
    "\\begin{equation}\n",
    "\\Delta t = \\frac{-B \\pm \\sqrt{B^2 - 4 A C}}{2 A}\n",
    "\\label{eq:quad_formula}\n",
    "\\end{equation}  \n",
    "\n",
    "The positive root yeilds the predicted range for the projectile."
   ]
  },
  {
   "cell_type": "markdown",
   "metadata": {},
   "source": [
    "## Uncertainty Analysis  \n",
    "### Uncertainty in Launch Velocity\n",
    "It will be important to know what the uncertainties are in our computed positions and velocities. First, recall that a difference in position is a subtraction of two quantities:  \n",
    "\\begin{equation}  \n",
    "\\Delta y = y_{2} - y_{1}\n",
    "\\label{eq:diff_pos}\n",
    "\\end{equation}  \n",
    "\n",
    "Therefore, we can use the addition/subtraction rule to compute the uncertainty in the difference:  \n",
    "\\begin{equation} \n",
    "(\\delta (\\Delta y)^2 = (\\delta (\\Delta y_{2})^2 - (\\delta (\\Delta y_{1})^2\n",
    "\\label{eq:unc_pos}\n",
    "\\end{equation}  \n",
    "\n",
    "This time, the uncertainties $\\delta y_{1}$ and $\\delta y_{2}$\n",
    "may not be the same, so we can’t further reduce this uncertainty.  \n",
    "\n",
    "The uncertainty in “muzzle velocity,” $\\delta v_{o}$, depends on how it is computed. If one uses a horizontal shot and measures the distance and time it travels, then this is a straightforward application of the product/quotient rule. Looking at equation $\\eqref{eq:v_x}$ we have  \n",
    "\\begin{equation} \n",
    "\\left(\\frac{\\delta v}{v}\\right)^2 = \\left(\\frac{\\delta (\\Delta x)}{\\Delta x}\\right)^2 + \\left(\\frac{\\delta (\\Delta t)}{\\Delta t}\\right)^2\n",
    "\\label{eq:unc_v}\n",
    "\\end{equation}\n",
    "\n",
    "This time, the uncertainty in time, $\\delta t$ , will be mostly caused by reaction time. This uncertainty is at least 0.1 s, but could be more. Use your best judgment to estimate this. The uncertainty in position will be the standard deviation of a number of trials.\n",
    "\n",
    "When using equation $\\eqref{eq:v_acc}$ to determine “muzzle velocity,” we arrive at the following equation:  \n",
    "\\begin{equation} \n",
    "v_{o} = \\sqrt{2 g \\Delta y}\n",
    "\\label{eq:muzz_v}\n",
    "\\end{equation}  \n",
    "\n",
    "To compute the uncertainty, we will have to use both the product/quotient and power rules. First, we rewrite the equation as $v_{o} = \\sqrt{q}$ where $q = 2 g \\Delta y$  \n",
    "\n",
    "Then the power rule says  \n",
    "\\begin{equation} \n",
    "\\frac{\\delta v_{o}}{v_{o}} = \\frac{1}{2} \\frac{\\delta q}{q} \\nonumber\n",
    "\\end{equation}  \n",
    "\n",
    "So now we work on $\\delta q$. The product/quotient rule says  \n",
    "\\begin{equation} \n",
    "\\left(\\frac{\\delta q}{q}\\right)^2 = \\left(\\frac{\\delta g}{g}\\right)^2 + \\left(\\frac{\\delta (\\Delta y)}{\\Delta y}\\right)^2 \\nonumber\n",
    "\\end{equation}  \n",
    "\n",
    "Combining them we find  \n",
    "\\begin{equation} \n",
    "\\frac{\\delta v_{o}}{v_{o}} = \\frac{1}{2} \\sqrt{(\\frac{\\delta g}{g})^2 + (\\frac{\\delta (\\Delta y)}{\\Delta y})^2}\n",
    "\\label{eq:unc_muzz}\n",
    "\\end{equation}  "
   ]
  },
  {
   "cell_type": "markdown",
   "metadata": {},
   "source": [
    "### Uncertainty in Calculated Range \n",
    "The uncertainty in the calculated range is one of the more difficult computations in this lab---especially because our standard three rules will actually underestimate this uncertainty. For this lab you may use the following relationship:  \n",
    "\\begin{equation}\n",
    "(\\frac{\\delta R}{R})^2 \\approx 2 (\\frac{\\delta v_{o}}{v_{o}})^2\n",
    "\\label{unc_calc_range}\n",
    "\\end{equation}  \n",
    "\n",
    "where $v_{o}$ is your launch velocity."
   ]
  },
  {
   "cell_type": "markdown",
   "metadata": {},
   "source": [
    "### Using Standard Deviations\n",
    "Oftentimes, computing uncertainties can be tedious. Another method that is useful is to collect enough data so that one can trust the standard deviations in the collected data. For the purposes of this course---wherever you are allowed to do so---if you have taken at least five data points, you may use the standard deviation of those data points as your measurement uncertainty. Be aware that this number may be greater than your computed uncertainty; especially if you have few data points."
   ]
  },
  {
   "cell_type": "markdown",
   "metadata": {},
   "source": []
  }
 ],
 "metadata": {
  "kernelspec": {
   "display_name": "Python 3",
   "language": "python",
   "name": "python3"
  },
  "language_info": {
   "codemirror_mode": {
    "name": "ipython",
    "version": 3
   },
   "file_extension": ".py",
   "mimetype": "text/x-python",
   "name": "python",
   "nbconvert_exporter": "python",
   "pygments_lexer": "ipython3",
   "version": "3.6.8"
  }
 },
 "nbformat": 4,
 "nbformat_minor": 4
}
