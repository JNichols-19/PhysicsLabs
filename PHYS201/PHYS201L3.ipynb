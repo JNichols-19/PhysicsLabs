{
 "cells": [
  {
   "cell_type": "markdown",
   "metadata": {},
   "source": [
    "# Experiment 3: Projectile Motion\n",
    "### Objectives\n",
    "- To learn to take good measurements\n",
    "- To learn how to estimate and propagate uncertainties\n",
    "- To learn how to apply the kinematic equations to projectile motion\n",
    "\n",
    "### Equipment\n",
    "- One PASCO Ballistic Pendulum apparatus with plastic projectile\n",
    "- Two (2) C-Clamps\n",
    "- One stopwatch\n",
    "- One 30 cm ruler\n",
    "- One two-meter stick\n",
    "- One sheet of carbon paper\n",
    "- Plain white or ruled paper\n",
    "- Tape\n",
    "\n",
    "### Safety\n",
    "1. **DO NOT STAND ON LAB CHAIRS**\n",
    "2. **Treat the launcher like a weapon:**\n",
    "    - **NEVER fire the launcher at anyone---even in jest.**\n",
    "    - **DO NOT “arm” the launcher until you’re ready to fire it.**\n",
    "3. When “arming” the launcher, place the ball on the pin and press down on the ball. Trying to press down on the bare pin can hurt your hand."
   ]
  },
  {
   "cell_type": "markdown",
   "metadata": {},
   "source": [
    "# Introduction\n",
    "Projectile motion is two-dimensional motion where one direction is under constant acceleration\n",
    "and the other direction is unaccelerated. In this lab, your job will be to compare the prediction for the range of a projectile given by the kinematic equations with the experimentally determined ranges."
   ]
  },
  {
   "cell_type": "markdown",
   "metadata": {},
   "source": [
    "# Theory\n",
    "\n",
    "### Kinematics\n",
    "Let us recall the four important equations in kinematics. First, the definitions of velocity and acceleration in the x-direction:  \n",
    "\n",
    "\\begin{equation}\n",
    "v_{x} \\equiv \\frac{\\Delta x}{\\Delta t}\n",
    "\\label{eq:v_x}\n",
    "\\end{equation}\n",
    "\n",
    "\\begin{equation}\n",
    "a_{x} \\equiv \\frac{\\Delta v_{x}}{\\Delta t}\n",
    "\\label{eq:a_x}\n",
    "\\end{equation}\n",
    "\n",
    "Second, the two equations useful for objects moving under constant accelerations:  \n",
    "\n",
    "\\begin{equation}\n",
    "x(t) = \\frac{1}{2} a_{x} t^2 + v_{o,x} t + x_o\n",
    "\\label{eq:x_of_t}\n",
    "\\end{equation}"
   ]
  },
  {
   "cell_type": "code",
   "execution_count": null,
   "metadata": {},
   "outputs": [],
   "source": []
  }
 ],
 "metadata": {
  "kernelspec": {
   "display_name": "Python 3",
   "language": "python",
   "name": "python3"
  },
  "language_info": {
   "codemirror_mode": {
    "name": "ipython",
    "version": 3
   },
   "file_extension": ".py",
   "mimetype": "text/x-python",
   "name": "python",
   "nbconvert_exporter": "python",
   "pygments_lexer": "ipython3",
   "version": "3.6.8"
  }
 },
 "nbformat": 4,
 "nbformat_minor": 4
}
