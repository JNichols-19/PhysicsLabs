{
 "cells": [
  {
   "cell_type": "markdown",
   "id": "43f129a5",
   "metadata": {},
   "source": [
    "# Lab Manual\n",
    "\n",
    "## Propagation of Uncertainties\n",
    "***"
   ]
  },
  {
   "cell_type": "markdown",
   "id": "07f43b5b",
   "metadata": {},
   "source": [
    "### The Sophisticated Approach\n",
    "We can use calculus to tell us how much a function varies if we change one of its parameters. For the following, we’ll assume that we are trying to compute some value, Y , using the inputs A, B, and C. This could be the perimeter of a rectangle, in which case the perimeter, Y , is the sum of four variables:\n",
    "\n",
    "$$Y(A, B, C, D) = A + B + C + D$$  \n",
    "\n",
    "In the case of a volume measurement, the volume, Y , would be the product of length, width, and height:\n",
    "\n",
    "$$Y(A, B, C) = ABC$$\n",
    "\n",
    "The uncertainties in our measured values will be given by δA, δB, and δC. The uncertainty in the\n",
    "computed value is, then, δY .\n",
    "\n",
    "If we have a function which is the sum or difference of a number of variables,\n",
    "$$Y = A \\pm B \\pm C$$\n",
    "\n",
    "Then we can compute the uncertainty in Y with the following formula:  \n",
    "\n",
    "\\begin{equation}\n",
    "(\\delta Y)^2 = (\\delta A)^2 + (\\delta B)^2 + (\\delta C)^2\n",
    "\\tag{R1}\n",
    "\\end{equation}\n",
    "\n",
    "If the function is some kind of product of our three variables,  \n",
    "$$ Y = ABC \\quad \\textrm{or} \\quad Y = \\frac{AB}{C} \\quad \\textrm{or} \\quad Y = \\frac{A}{BC} \\quad \\textrm{or} \\quad Y = \\frac{1}{ABC}$$  \n",
    "\n",
    "Then we can compute the uncertainty in Y via:\n",
    "\n",
    "\\begin{equation}\n",
    "(\\frac{\\delta Y}{Y})^2 = (\\frac{\\delta A}{A})^2 + (\\frac{\\delta B}{B})^2 + (\\frac{\\delta C}{C})^2\n",
    "\\tag{R2}\n",
    "\\end{equation}\n",
    "\n",
    "Finally, if our function is a power of one of our variables (for example, the area of a circle),\n",
    "\n",
    "$$Y = A^\\alpha$$  \n",
    "\n",
    "Then we can compute the uncertainty by  \n",
    "\\begin{equation}\n",
    "\\frac{\\delta Y}{Y} = |\\alpha| \\frac{\\delta A}{A}\n",
    "\\tag{R3}\n",
    "\\end{equation}"
   ]
  },
  {
   "cell_type": "markdown",
   "id": "1fa8573e",
   "metadata": {},
   "source": [
    "Let’s try our volume example. Because V = xyz, we use ([R2](#mjx-eqn)),  \n",
    "\n",
    "\\begin{align*}\n",
    "\\frac{\\delta V}{V} = \\sqrt{\\left(\\frac{\\delta x}{x}\\right)^2 + \\left(\\frac{\\delta y}{y}\\right)^2 + \\left(\\frac{\\delta z}{z}\\right)^2} \\\\\n",
    "= \\sqrt{\\left(\\frac{0.5}{100}\\right)^2 + \\left(\\frac{0.5}{50}\\right)^2 + \\left(\\frac{0.5}{20}\\right)^2} \\\\\n",
    "\\frac{\\delta V}{1 * 10^5} = 0.027386 \\\\\n",
    "\\delta V = 2738.6\n",
    "\\nonumber\n",
    "\\end{align*}\n",
    "\n",
    "Therefore we may write  \n",
    "$$V = (1.000 \\pm 0.027) * 10^5 cm^3 \\quad \\textrm{or} \\quad V = (0.1000 \\pm 0.0027) m^3$$\n",
    "\n",
    "Or, in more modern notation,  \n",
    "$$V = 1.000(27) * 10^5 cm^3 \\quad \\textrm{or} \\quad V = 0.1000(27) m^3$$\n",
    "\n",
    "Although this method seems complicated, it gives the best estimate of our uncertainties. After you’ve used it a few times, it will become second nature."
   ]
  }
 ],
 "metadata": {
  "kernelspec": {
   "display_name": "Python 3",
   "language": "python",
   "name": "python3"
  },
  "language_info": {
   "codemirror_mode": {
    "name": "ipython",
    "version": 3
   },
   "file_extension": ".py",
   "mimetype": "text/x-python",
   "name": "python",
   "nbconvert_exporter": "python",
   "pygments_lexer": "ipython3",
   "version": "3.6.8"
  }
 },
 "nbformat": 4,
 "nbformat_minor": 5
}
